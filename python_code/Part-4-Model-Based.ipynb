{
 "cells": [
  {
   "cell_type": "code",
   "execution_count": 1,
   "metadata": {},
   "outputs": [],
   "source": [
    "import pandas as pd\n",
    "import numpy as np\n",
    "pd.set_option('max_rows', 15)\n",
    "pd.plotting.register_matplotlib_converters()\n",
    "import matplotlib.pyplot as plt\n",
    "%matplotlib inline\n",
    "import seaborn as sns\n",
    "from sklearn.metrics import mean_absolute_error\n",
    "from sklearn.model_selection import train_test_split\n",
    "from sklearn.tree import DecisionTreeRegressor\n"
   ]
  },
  {
   "cell_type": "code",
   "execution_count": 2,
   "metadata": {},
   "outputs": [
    {
     "name": "stderr",
     "output_type": "stream",
     "text": [
      "C:\\Users\\pmogh\\anaconda3\\lib\\site-packages\\IPython\\core\\interactiveshell.py:3185: DtypeWarning: Columns (14) have mixed types.Specify dtype option on import or set low_memory=False.\n",
      "  has_raised = await self.run_ast_nodes(code_ast.body, cell_name,\n"
     ]
    },
    {
     "data": {
      "text/html": [
       "<div>\n",
       "<style scoped>\n",
       "    .dataframe tbody tr th:only-of-type {\n",
       "        vertical-align: middle;\n",
       "    }\n",
       "\n",
       "    .dataframe tbody tr th {\n",
       "        vertical-align: top;\n",
       "    }\n",
       "\n",
       "    .dataframe thead th {\n",
       "        text-align: right;\n",
       "    }\n",
       "</style>\n",
       "<table border=\"1\" class=\"dataframe\">\n",
       "  <thead>\n",
       "    <tr style=\"text-align: right;\">\n",
       "      <th></th>\n",
       "      <th>uid</th>\n",
       "      <th>id</th>\n",
       "      <th>owned</th>\n",
       "      <th>publisher</th>\n",
       "      <th>genres</th>\n",
       "      <th>app_name</th>\n",
       "      <th>title</th>\n",
       "      <th>url</th>\n",
       "      <th>release_date</th>\n",
       "      <th>tags</th>\n",
       "      <th>discount_price</th>\n",
       "      <th>reviews_url</th>\n",
       "      <th>specs</th>\n",
       "      <th>price</th>\n",
       "      <th>early_access</th>\n",
       "      <th>developer</th>\n",
       "      <th>sentiment</th>\n",
       "      <th>metascore</th>\n",
       "    </tr>\n",
       "  </thead>\n",
       "  <tbody>\n",
       "    <tr>\n",
       "      <th>0</th>\n",
       "      <td>0</td>\n",
       "      <td>10</td>\n",
       "      <td>1.0</td>\n",
       "      <td>Valve</td>\n",
       "      <td>['Action']</td>\n",
       "      <td>Counter-Strike</td>\n",
       "      <td>Counter-Strike</td>\n",
       "      <td>http://store.steampowered.com/app/10/CounterSt...</td>\n",
       "      <td>2000-11-01</td>\n",
       "      <td>['Action', 'FPS', 'Multiplayer', 'Shooter', 'C...</td>\n",
       "      <td>NaN</td>\n",
       "      <td>http://steamcommunity.com/app/10/reviews/?brow...</td>\n",
       "      <td>['Multi-player', 'Valve Anti-Cheat enabled']</td>\n",
       "      <td>9.99</td>\n",
       "      <td>False</td>\n",
       "      <td>Valve</td>\n",
       "      <td>Overwhelmingly Positive</td>\n",
       "      <td>88.0</td>\n",
       "    </tr>\n",
       "    <tr>\n",
       "      <th>1</th>\n",
       "      <td>1</td>\n",
       "      <td>10</td>\n",
       "      <td>1.0</td>\n",
       "      <td>Valve</td>\n",
       "      <td>['Action']</td>\n",
       "      <td>Counter-Strike</td>\n",
       "      <td>Counter-Strike</td>\n",
       "      <td>http://store.steampowered.com/app/10/CounterSt...</td>\n",
       "      <td>2000-11-01</td>\n",
       "      <td>['Action', 'FPS', 'Multiplayer', 'Shooter', 'C...</td>\n",
       "      <td>NaN</td>\n",
       "      <td>http://steamcommunity.com/app/10/reviews/?brow...</td>\n",
       "      <td>['Multi-player', 'Valve Anti-Cheat enabled']</td>\n",
       "      <td>9.99</td>\n",
       "      <td>False</td>\n",
       "      <td>Valve</td>\n",
       "      <td>Overwhelmingly Positive</td>\n",
       "      <td>88.0</td>\n",
       "    </tr>\n",
       "    <tr>\n",
       "      <th>2</th>\n",
       "      <td>3</td>\n",
       "      <td>10</td>\n",
       "      <td>1.0</td>\n",
       "      <td>Valve</td>\n",
       "      <td>['Action']</td>\n",
       "      <td>Counter-Strike</td>\n",
       "      <td>Counter-Strike</td>\n",
       "      <td>http://store.steampowered.com/app/10/CounterSt...</td>\n",
       "      <td>2000-11-01</td>\n",
       "      <td>['Action', 'FPS', 'Multiplayer', 'Shooter', 'C...</td>\n",
       "      <td>NaN</td>\n",
       "      <td>http://steamcommunity.com/app/10/reviews/?brow...</td>\n",
       "      <td>['Multi-player', 'Valve Anti-Cheat enabled']</td>\n",
       "      <td>9.99</td>\n",
       "      <td>False</td>\n",
       "      <td>Valve</td>\n",
       "      <td>Overwhelmingly Positive</td>\n",
       "      <td>88.0</td>\n",
       "    </tr>\n",
       "    <tr>\n",
       "      <th>3</th>\n",
       "      <td>4</td>\n",
       "      <td>10</td>\n",
       "      <td>1.0</td>\n",
       "      <td>Valve</td>\n",
       "      <td>['Action']</td>\n",
       "      <td>Counter-Strike</td>\n",
       "      <td>Counter-Strike</td>\n",
       "      <td>http://store.steampowered.com/app/10/CounterSt...</td>\n",
       "      <td>2000-11-01</td>\n",
       "      <td>['Action', 'FPS', 'Multiplayer', 'Shooter', 'C...</td>\n",
       "      <td>NaN</td>\n",
       "      <td>http://steamcommunity.com/app/10/reviews/?brow...</td>\n",
       "      <td>['Multi-player', 'Valve Anti-Cheat enabled']</td>\n",
       "      <td>9.99</td>\n",
       "      <td>False</td>\n",
       "      <td>Valve</td>\n",
       "      <td>Overwhelmingly Positive</td>\n",
       "      <td>88.0</td>\n",
       "    </tr>\n",
       "    <tr>\n",
       "      <th>4</th>\n",
       "      <td>10</td>\n",
       "      <td>10</td>\n",
       "      <td>1.0</td>\n",
       "      <td>Valve</td>\n",
       "      <td>['Action']</td>\n",
       "      <td>Counter-Strike</td>\n",
       "      <td>Counter-Strike</td>\n",
       "      <td>http://store.steampowered.com/app/10/CounterSt...</td>\n",
       "      <td>2000-11-01</td>\n",
       "      <td>['Action', 'FPS', 'Multiplayer', 'Shooter', 'C...</td>\n",
       "      <td>NaN</td>\n",
       "      <td>http://steamcommunity.com/app/10/reviews/?brow...</td>\n",
       "      <td>['Multi-player', 'Valve Anti-Cheat enabled']</td>\n",
       "      <td>9.99</td>\n",
       "      <td>False</td>\n",
       "      <td>Valve</td>\n",
       "      <td>Overwhelmingly Positive</td>\n",
       "      <td>88.0</td>\n",
       "    </tr>\n",
       "  </tbody>\n",
       "</table>\n",
       "</div>"
      ],
      "text/plain": [
       "   uid  id  owned publisher      genres        app_name           title  \\\n",
       "0    0  10    1.0     Valve  ['Action']  Counter-Strike  Counter-Strike   \n",
       "1    1  10    1.0     Valve  ['Action']  Counter-Strike  Counter-Strike   \n",
       "2    3  10    1.0     Valve  ['Action']  Counter-Strike  Counter-Strike   \n",
       "3    4  10    1.0     Valve  ['Action']  Counter-Strike  Counter-Strike   \n",
       "4   10  10    1.0     Valve  ['Action']  Counter-Strike  Counter-Strike   \n",
       "\n",
       "                                                 url release_date  \\\n",
       "0  http://store.steampowered.com/app/10/CounterSt...   2000-11-01   \n",
       "1  http://store.steampowered.com/app/10/CounterSt...   2000-11-01   \n",
       "2  http://store.steampowered.com/app/10/CounterSt...   2000-11-01   \n",
       "3  http://store.steampowered.com/app/10/CounterSt...   2000-11-01   \n",
       "4  http://store.steampowered.com/app/10/CounterSt...   2000-11-01   \n",
       "\n",
       "                                                tags  discount_price  \\\n",
       "0  ['Action', 'FPS', 'Multiplayer', 'Shooter', 'C...             NaN   \n",
       "1  ['Action', 'FPS', 'Multiplayer', 'Shooter', 'C...             NaN   \n",
       "2  ['Action', 'FPS', 'Multiplayer', 'Shooter', 'C...             NaN   \n",
       "3  ['Action', 'FPS', 'Multiplayer', 'Shooter', 'C...             NaN   \n",
       "4  ['Action', 'FPS', 'Multiplayer', 'Shooter', 'C...             NaN   \n",
       "\n",
       "                                         reviews_url  \\\n",
       "0  http://steamcommunity.com/app/10/reviews/?brow...   \n",
       "1  http://steamcommunity.com/app/10/reviews/?brow...   \n",
       "2  http://steamcommunity.com/app/10/reviews/?brow...   \n",
       "3  http://steamcommunity.com/app/10/reviews/?brow...   \n",
       "4  http://steamcommunity.com/app/10/reviews/?brow...   \n",
       "\n",
       "                                          specs price  early_access developer  \\\n",
       "0  ['Multi-player', 'Valve Anti-Cheat enabled']  9.99         False     Valve   \n",
       "1  ['Multi-player', 'Valve Anti-Cheat enabled']  9.99         False     Valve   \n",
       "2  ['Multi-player', 'Valve Anti-Cheat enabled']  9.99         False     Valve   \n",
       "3  ['Multi-player', 'Valve Anti-Cheat enabled']  9.99         False     Valve   \n",
       "4  ['Multi-player', 'Valve Anti-Cheat enabled']  9.99         False     Valve   \n",
       "\n",
       "                 sentiment  metascore  \n",
       "0  Overwhelmingly Positive       88.0  \n",
       "1  Overwhelmingly Positive       88.0  \n",
       "2  Overwhelmingly Positive       88.0  \n",
       "3  Overwhelmingly Positive       88.0  \n",
       "4  Overwhelmingly Positive       88.0  "
      ]
     },
     "execution_count": 2,
     "metadata": {},
     "output_type": "execute_result"
    }
   ],
   "source": [
    "# Load merged data\n",
    "mergeddata = pd.read_csv('mergeddata.csv', index_col = 0)\n",
    "mergeddata.head()"
   ]
  },
  {
   "cell_type": "code",
   "execution_count": 3,
   "metadata": {},
   "outputs": [
    {
     "data": {
      "text/plain": [
       "(819988, 18)"
      ]
     },
     "execution_count": 3,
     "metadata": {},
     "output_type": "execute_result"
    }
   ],
   "source": [
    "mergeddata.shape"
   ]
  },
  {
   "cell_type": "code",
   "execution_count": 4,
   "metadata": {},
   "outputs": [
    {
     "data": {
      "text/html": [
       "<div>\n",
       "<style scoped>\n",
       "    .dataframe tbody tr th:only-of-type {\n",
       "        vertical-align: middle;\n",
       "    }\n",
       "\n",
       "    .dataframe tbody tr th {\n",
       "        vertical-align: top;\n",
       "    }\n",
       "\n",
       "    .dataframe thead th {\n",
       "        text-align: right;\n",
       "    }\n",
       "</style>\n",
       "<table border=\"1\" class=\"dataframe\">\n",
       "  <thead>\n",
       "    <tr style=\"text-align: right;\">\n",
       "      <th></th>\n",
       "      <th>uid</th>\n",
       "      <th>id</th>\n",
       "      <th>owned</th>\n",
       "      <th>discount_price</th>\n",
       "      <th>metascore</th>\n",
       "    </tr>\n",
       "  </thead>\n",
       "  <tbody>\n",
       "    <tr>\n",
       "      <th>count</th>\n",
       "      <td>819988.000000</td>\n",
       "      <td>819988.000000</td>\n",
       "      <td>819988.0</td>\n",
       "      <td>1052.000000</td>\n",
       "      <td>485063.000000</td>\n",
       "    </tr>\n",
       "    <tr>\n",
       "      <th>mean</th>\n",
       "      <td>5090.851825</td>\n",
       "      <td>185177.375136</td>\n",
       "      <td>1.0</td>\n",
       "      <td>0.637405</td>\n",
       "      <td>78.504638</td>\n",
       "    </tr>\n",
       "    <tr>\n",
       "      <th>std</th>\n",
       "      <td>2858.808048</td>\n",
       "      <td>135141.482185</td>\n",
       "      <td>0.0</td>\n",
       "      <td>0.698054</td>\n",
       "      <td>9.801869</td>\n",
       "    </tr>\n",
       "    <tr>\n",
       "      <th>min</th>\n",
       "      <td>0.000000</td>\n",
       "      <td>10.000000</td>\n",
       "      <td>1.0</td>\n",
       "      <td>0.490000</td>\n",
       "      <td>20.000000</td>\n",
       "    </tr>\n",
       "    <tr>\n",
       "      <th>25%</th>\n",
       "      <td>2641.000000</td>\n",
       "      <td>34900.000000</td>\n",
       "      <td>1.0</td>\n",
       "      <td>0.490000</td>\n",
       "      <td>73.000000</td>\n",
       "    </tr>\n",
       "    <tr>\n",
       "      <th>50%</th>\n",
       "      <td>5121.000000</td>\n",
       "      <td>218820.000000</td>\n",
       "      <td>1.0</td>\n",
       "      <td>0.490000</td>\n",
       "      <td>80.000000</td>\n",
       "    </tr>\n",
       "    <tr>\n",
       "      <th>75%</th>\n",
       "      <td>7546.000000</td>\n",
       "      <td>287290.000000</td>\n",
       "      <td>1.0</td>\n",
       "      <td>0.490000</td>\n",
       "      <td>85.000000</td>\n",
       "    </tr>\n",
       "    <tr>\n",
       "      <th>max</th>\n",
       "      <td>9999.000000</td>\n",
       "      <td>530720.000000</td>\n",
       "      <td>1.0</td>\n",
       "      <td>7.490000</td>\n",
       "      <td>96.000000</td>\n",
       "    </tr>\n",
       "  </tbody>\n",
       "</table>\n",
       "</div>"
      ],
      "text/plain": [
       "                 uid             id     owned  discount_price      metascore\n",
       "count  819988.000000  819988.000000  819988.0     1052.000000  485063.000000\n",
       "mean     5090.851825  185177.375136       1.0        0.637405      78.504638\n",
       "std      2858.808048  135141.482185       0.0        0.698054       9.801869\n",
       "min         0.000000      10.000000       1.0        0.490000      20.000000\n",
       "25%      2641.000000   34900.000000       1.0        0.490000      73.000000\n",
       "50%      5121.000000  218820.000000       1.0        0.490000      80.000000\n",
       "75%      7546.000000  287290.000000       1.0        0.490000      85.000000\n",
       "max      9999.000000  530720.000000       1.0        7.490000      96.000000"
      ]
     },
     "execution_count": 4,
     "metadata": {},
     "output_type": "execute_result"
    }
   ],
   "source": [
    "mergeddata.describe()"
   ]
  },
  {
   "cell_type": "code",
   "execution_count": 5,
   "metadata": {},
   "outputs": [
    {
     "data": {
      "text/html": [
       "<div>\n",
       "<style scoped>\n",
       "    .dataframe tbody tr th:only-of-type {\n",
       "        vertical-align: middle;\n",
       "    }\n",
       "\n",
       "    .dataframe tbody tr th {\n",
       "        vertical-align: top;\n",
       "    }\n",
       "\n",
       "    .dataframe thead th {\n",
       "        text-align: right;\n",
       "    }\n",
       "</style>\n",
       "<table border=\"1\" class=\"dataframe\">\n",
       "  <thead>\n",
       "    <tr style=\"text-align: right;\">\n",
       "      <th></th>\n",
       "      <th>publisher</th>\n",
       "      <th>genres</th>\n",
       "      <th>app_name</th>\n",
       "      <th>title</th>\n",
       "      <th>url</th>\n",
       "      <th>release_date</th>\n",
       "      <th>tags</th>\n",
       "      <th>reviews_url</th>\n",
       "      <th>specs</th>\n",
       "      <th>price</th>\n",
       "      <th>developer</th>\n",
       "      <th>sentiment</th>\n",
       "    </tr>\n",
       "  </thead>\n",
       "  <tbody>\n",
       "    <tr>\n",
       "      <th>count</th>\n",
       "      <td>806910</td>\n",
       "      <td>816219</td>\n",
       "      <td>819988</td>\n",
       "      <td>819988</td>\n",
       "      <td>819988</td>\n",
       "      <td>818866</td>\n",
       "      <td>819971</td>\n",
       "      <td>819988</td>\n",
       "      <td>816228</td>\n",
       "      <td>804282</td>\n",
       "      <td>812896</td>\n",
       "      <td>819639</td>\n",
       "    </tr>\n",
       "    <tr>\n",
       "      <th>unique</th>\n",
       "      <td>3747</td>\n",
       "      <td>569</td>\n",
       "      <td>8169</td>\n",
       "      <td>8169</td>\n",
       "      <td>8171</td>\n",
       "      <td>2621</td>\n",
       "      <td>7125</td>\n",
       "      <td>8171</td>\n",
       "      <td>1563</td>\n",
       "      <td>104</td>\n",
       "      <td>5228</td>\n",
       "      <td>18</td>\n",
       "    </tr>\n",
       "    <tr>\n",
       "      <th>top</th>\n",
       "      <td>Valve</td>\n",
       "      <td>['Action']</td>\n",
       "      <td>Counter-Strike: Global Offensive</td>\n",
       "      <td>Counter-Strike: Global Offensive</td>\n",
       "      <td>http://store.steampowered.com/app/730/CounterS...</td>\n",
       "      <td>2012-08-21</td>\n",
       "      <td>['FPS', 'Multiplayer', 'Shooter', 'Action', 'T...</td>\n",
       "      <td>http://steamcommunity.com/app/730/reviews/?bro...</td>\n",
       "      <td>['Single-player']</td>\n",
       "      <td>9.99</td>\n",
       "      <td>Valve</td>\n",
       "      <td>Very Positive</td>\n",
       "    </tr>\n",
       "    <tr>\n",
       "      <th>freq</th>\n",
       "      <td>58250</td>\n",
       "      <td>145396</td>\n",
       "      <td>6966</td>\n",
       "      <td>6966</td>\n",
       "      <td>6966</td>\n",
       "      <td>7086</td>\n",
       "      <td>6966</td>\n",
       "      <td>6966</td>\n",
       "      <td>68096</td>\n",
       "      <td>136063</td>\n",
       "      <td>49265</td>\n",
       "      <td>410388</td>\n",
       "    </tr>\n",
       "  </tbody>\n",
       "</table>\n",
       "</div>"
      ],
      "text/plain": [
       "       publisher      genres                          app_name  \\\n",
       "count     806910      816219                            819988   \n",
       "unique      3747         569                              8169   \n",
       "top        Valve  ['Action']  Counter-Strike: Global Offensive   \n",
       "freq       58250      145396                              6966   \n",
       "\n",
       "                                   title  \\\n",
       "count                             819988   \n",
       "unique                              8169   \n",
       "top     Counter-Strike: Global Offensive   \n",
       "freq                                6966   \n",
       "\n",
       "                                                      url release_date  \\\n",
       "count                                              819988       818866   \n",
       "unique                                               8171         2621   \n",
       "top     http://store.steampowered.com/app/730/CounterS...   2012-08-21   \n",
       "freq                                                 6966         7086   \n",
       "\n",
       "                                                     tags  \\\n",
       "count                                              819971   \n",
       "unique                                               7125   \n",
       "top     ['FPS', 'Multiplayer', 'Shooter', 'Action', 'T...   \n",
       "freq                                                 6966   \n",
       "\n",
       "                                              reviews_url              specs  \\\n",
       "count                                              819988             816228   \n",
       "unique                                               8171               1563   \n",
       "top     http://steamcommunity.com/app/730/reviews/?bro...  ['Single-player']   \n",
       "freq                                                 6966              68096   \n",
       "\n",
       "         price developer      sentiment  \n",
       "count   804282    812896         819639  \n",
       "unique     104      5228             18  \n",
       "top       9.99     Valve  Very Positive  \n",
       "freq    136063     49265         410388  "
      ]
     },
     "execution_count": 5,
     "metadata": {},
     "output_type": "execute_result"
    }
   ],
   "source": [
    "mergeddata.describe(include=\"object\")"
   ]
  },
  {
   "cell_type": "markdown",
   "metadata": {},
   "source": [
    "# Find the count of Numeric column and Categorical Column"
   ]
  },
  {
   "cell_type": "code",
   "execution_count": 6,
   "metadata": {},
   "outputs": [
    {
     "name": "stdout",
     "output_type": "stream",
     "text": [
      "Find the count of Numeric Column : 5\n",
      "Numeric Column Name : <bound method IndexOpsMixin.tolist of Index(['uid', 'id', 'owned', 'discount_price', 'metascore'], dtype='object')>\n"
     ]
    }
   ],
   "source": [
    "print(f\"Find the count of Numeric Column : {len(mergeddata.select_dtypes(include=np.number).columns)}\")\n",
    "\n",
    "print(f\"Numeric Column Name : {mergeddata.select_dtypes(include=np.number).columns.tolist}\")"
   ]
  },
  {
   "cell_type": "code",
   "execution_count": 7,
   "metadata": {},
   "outputs": [
    {
     "name": "stdout",
     "output_type": "stream",
     "text": [
      "Find the count of Categorical Column : 13\n",
      "Categorical Column Name : <bound method IndexOpsMixin.tolist of Index(['publisher', 'genres', 'app_name', 'title', 'url', 'release_date',\n",
      "       'tags', 'reviews_url', 'specs', 'price', 'early_access', 'developer',\n",
      "       'sentiment'],\n",
      "      dtype='object')>\n"
     ]
    }
   ],
   "source": [
    "print(f\"Find the count of Categorical Column : {len(mergeddata.select_dtypes(exclude=np.number).columns)}\")\n",
    "\n",
    "print(f\"Categorical Column Name : {mergeddata.select_dtypes(exclude=np.number).columns.tolist}\")"
   ]
  },
  {
   "cell_type": "code",
   "execution_count": 8,
   "metadata": {},
   "outputs": [
    {
     "data": {
      "text/plain": [
       "discount_price    818936\n",
       "metascore         334925\n",
       "price              15706\n",
       "publisher          13078\n",
       "developer           7092\n",
       "genres              3769\n",
       "specs               3760\n",
       "release_date        1122\n",
       "sentiment            349\n",
       "tags                  17\n",
       "id                     0\n",
       "reviews_url            0\n",
       "url                    0\n",
       "title                  0\n",
       "early_access           0\n",
       "dtype: int64"
      ]
     },
     "execution_count": 8,
     "metadata": {},
     "output_type": "execute_result"
    }
   ],
   "source": [
    "mergeddata.isnull().sum().sort_values(ascending=False).head(15)"
   ]
  },
  {
   "cell_type": "markdown",
   "metadata": {},
   "source": [
    "# Find total null values in data and percentage of null values in each columns"
   ]
  },
  {
   "cell_type": "code",
   "execution_count": 9,
   "metadata": {},
   "outputs": [],
   "source": [
    "def find_total_perc_missing (data_set):\n",
    "    temp_missing_val = (data_set.isnull().sum()).sum()\n",
    "    total_cel = np.product(data_set.shape)\n",
    "    perc_missing_data=100 * (temp_missing_val/total_cel)\n",
    "    return perc_missing_data"
   ]
  },
  {
   "cell_type": "code",
   "execution_count": 10,
   "metadata": {},
   "outputs": [
    {
     "name": "stdout",
     "output_type": "stream",
     "text": [
      "8.121758421396953\n"
     ]
    }
   ],
   "source": [
    "print(find_total_perc_missing(mergeddata))"
   ]
  },
  {
   "cell_type": "code",
   "execution_count": 11,
   "metadata": {},
   "outputs": [],
   "source": [
    "def find_missing_value(data_set):\n",
    "    percent_missing = data_set.isnull().sum() * 100 / len(data_set)\n",
    "    missing_value_df = pd.DataFrame({'column_name': data_set.columns,'percent_missing': percent_missing})\n",
    "    missing_value_df=missing_value_df.sort_values('percent_missing', ascending=False)\n",
    "    \n",
    "    return missing_value_df"
   ]
  },
  {
   "cell_type": "code",
   "execution_count": 12,
   "metadata": {},
   "outputs": [
    {
     "data": {
      "text/html": [
       "<div>\n",
       "<style scoped>\n",
       "    .dataframe tbody tr th:only-of-type {\n",
       "        vertical-align: middle;\n",
       "    }\n",
       "\n",
       "    .dataframe tbody tr th {\n",
       "        vertical-align: top;\n",
       "    }\n",
       "\n",
       "    .dataframe thead th {\n",
       "        text-align: right;\n",
       "    }\n",
       "</style>\n",
       "<table border=\"1\" class=\"dataframe\">\n",
       "  <thead>\n",
       "    <tr style=\"text-align: right;\">\n",
       "      <th></th>\n",
       "      <th>column_name</th>\n",
       "      <th>percent_missing</th>\n",
       "    </tr>\n",
       "  </thead>\n",
       "  <tbody>\n",
       "    <tr>\n",
       "      <th>discount_price</th>\n",
       "      <td>discount_price</td>\n",
       "      <td>99.871705</td>\n",
       "    </tr>\n",
       "    <tr>\n",
       "      <th>metascore</th>\n",
       "      <td>metascore</td>\n",
       "      <td>40.845110</td>\n",
       "    </tr>\n",
       "    <tr>\n",
       "      <th>price</th>\n",
       "      <td>price</td>\n",
       "      <td>1.915394</td>\n",
       "    </tr>\n",
       "    <tr>\n",
       "      <th>publisher</th>\n",
       "      <td>publisher</td>\n",
       "      <td>1.594901</td>\n",
       "    </tr>\n",
       "    <tr>\n",
       "      <th>developer</th>\n",
       "      <td>developer</td>\n",
       "      <td>0.864891</td>\n",
       "    </tr>\n",
       "    <tr>\n",
       "      <th>genres</th>\n",
       "      <td>genres</td>\n",
       "      <td>0.459641</td>\n",
       "    </tr>\n",
       "    <tr>\n",
       "      <th>specs</th>\n",
       "      <td>specs</td>\n",
       "      <td>0.458543</td>\n",
       "    </tr>\n",
       "    <tr>\n",
       "      <th>release_date</th>\n",
       "      <td>release_date</td>\n",
       "      <td>0.136831</td>\n",
       "    </tr>\n",
       "    <tr>\n",
       "      <th>sentiment</th>\n",
       "      <td>sentiment</td>\n",
       "      <td>0.042562</td>\n",
       "    </tr>\n",
       "    <tr>\n",
       "      <th>tags</th>\n",
       "      <td>tags</td>\n",
       "      <td>0.002073</td>\n",
       "    </tr>\n",
       "    <tr>\n",
       "      <th>id</th>\n",
       "      <td>id</td>\n",
       "      <td>0.000000</td>\n",
       "    </tr>\n",
       "    <tr>\n",
       "      <th>reviews_url</th>\n",
       "      <td>reviews_url</td>\n",
       "      <td>0.000000</td>\n",
       "    </tr>\n",
       "    <tr>\n",
       "      <th>url</th>\n",
       "      <td>url</td>\n",
       "      <td>0.000000</td>\n",
       "    </tr>\n",
       "    <tr>\n",
       "      <th>title</th>\n",
       "      <td>title</td>\n",
       "      <td>0.000000</td>\n",
       "    </tr>\n",
       "    <tr>\n",
       "      <th>early_access</th>\n",
       "      <td>early_access</td>\n",
       "      <td>0.000000</td>\n",
       "    </tr>\n",
       "  </tbody>\n",
       "</table>\n",
       "</div>"
      ],
      "text/plain": [
       "                   column_name  percent_missing\n",
       "discount_price  discount_price        99.871705\n",
       "metascore            metascore        40.845110\n",
       "price                    price         1.915394\n",
       "publisher            publisher         1.594901\n",
       "developer            developer         0.864891\n",
       "genres                  genres         0.459641\n",
       "specs                    specs         0.458543\n",
       "release_date      release_date         0.136831\n",
       "sentiment            sentiment         0.042562\n",
       "tags                      tags         0.002073\n",
       "id                          id         0.000000\n",
       "reviews_url        reviews_url         0.000000\n",
       "url                        url         0.000000\n",
       "title                    title         0.000000\n",
       "early_access      early_access         0.000000"
      ]
     },
     "execution_count": 12,
     "metadata": {},
     "output_type": "execute_result"
    }
   ],
   "source": [
    "find_missing_value(mergeddata).head(15)"
   ]
  },
  {
   "cell_type": "code",
   "execution_count": 13,
   "metadata": {},
   "outputs": [
    {
     "data": {
      "image/png": "[encoded data removed]",
      "text/plain": [
       "<Figure size 576x360 with 1 Axes>"
      ]
     },
     "metadata": {
      "needs_background": "light"
     },
     "output_type": "display_data"
    }
   ],
   "source": [
    "plt.figure(figsize=(8,5))\n",
    "(mergeddata.isna().sum() / mergeddata.shape[0]).hist(bins=20)\n",
    "plt.title('Histogram of Feature Incompleteness')\n",
    "plt.xlabel('Fraction of data missing')\n",
    "plt.ylabel('Feature count');"
   ]
  },
  {
   "cell_type": "code",
   "execution_count": 14,
   "metadata": {},
   "outputs": [],
   "source": [
    "def remove_columns (data_set,final_val_data):\n",
    "    list_remove_column=[]\n",
    "    for index,row in final_val_data.iterrows():\n",
    "        if row['percent_missing'] > 60:\n",
    "            if index in mergeddata.columns:\n",
    "                list_remove_column.append(index)\n",
    "    return list_remove_column"
   ]
  },
  {
   "cell_type": "markdown",
   "metadata": {},
   "source": [
    "# Remove the column with more than 50% null values"
   ]
  },
  {
   "cell_type": "code",
   "execution_count": 15,
   "metadata": {},
   "outputs": [],
   "source": [
    "# calling the above function to find the list of above 60\n",
    "Removed_Column_Name=remove_columns(mergeddata,find_missing_value(mergeddata))\n",
    "mergeddata=mergeddata.drop(Removed_Column_Name, axis=1)"
   ]
  },
  {
   "cell_type": "code",
   "execution_count": 16,
   "metadata": {},
   "outputs": [
    {
     "data": {
      "text/html": [
       "<div>\n",
       "<style scoped>\n",
       "    .dataframe tbody tr th:only-of-type {\n",
       "        vertical-align: middle;\n",
       "    }\n",
       "\n",
       "    .dataframe tbody tr th {\n",
       "        vertical-align: top;\n",
       "    }\n",
       "\n",
       "    .dataframe thead th {\n",
       "        text-align: right;\n",
       "    }\n",
       "</style>\n",
       "<table border=\"1\" class=\"dataframe\">\n",
       "  <thead>\n",
       "    <tr style=\"text-align: right;\">\n",
       "      <th></th>\n",
       "      <th>column_name</th>\n",
       "      <th>percent_missing</th>\n",
       "    </tr>\n",
       "  </thead>\n",
       "  <tbody>\n",
       "    <tr>\n",
       "      <th>metascore</th>\n",
       "      <td>metascore</td>\n",
       "      <td>40.845110</td>\n",
       "    </tr>\n",
       "    <tr>\n",
       "      <th>price</th>\n",
       "      <td>price</td>\n",
       "      <td>1.915394</td>\n",
       "    </tr>\n",
       "    <tr>\n",
       "      <th>publisher</th>\n",
       "      <td>publisher</td>\n",
       "      <td>1.594901</td>\n",
       "    </tr>\n",
       "    <tr>\n",
       "      <th>developer</th>\n",
       "      <td>developer</td>\n",
       "      <td>0.864891</td>\n",
       "    </tr>\n",
       "    <tr>\n",
       "      <th>genres</th>\n",
       "      <td>genres</td>\n",
       "      <td>0.459641</td>\n",
       "    </tr>\n",
       "    <tr>\n",
       "      <th>specs</th>\n",
       "      <td>specs</td>\n",
       "      <td>0.458543</td>\n",
       "    </tr>\n",
       "    <tr>\n",
       "      <th>release_date</th>\n",
       "      <td>release_date</td>\n",
       "      <td>0.136831</td>\n",
       "    </tr>\n",
       "    <tr>\n",
       "      <th>sentiment</th>\n",
       "      <td>sentiment</td>\n",
       "      <td>0.042562</td>\n",
       "    </tr>\n",
       "    <tr>\n",
       "      <th>tags</th>\n",
       "      <td>tags</td>\n",
       "      <td>0.002073</td>\n",
       "    </tr>\n",
       "    <tr>\n",
       "      <th>url</th>\n",
       "      <td>url</td>\n",
       "      <td>0.000000</td>\n",
       "    </tr>\n",
       "    <tr>\n",
       "      <th>id</th>\n",
       "      <td>id</td>\n",
       "      <td>0.000000</td>\n",
       "    </tr>\n",
       "    <tr>\n",
       "      <th>reviews_url</th>\n",
       "      <td>reviews_url</td>\n",
       "      <td>0.000000</td>\n",
       "    </tr>\n",
       "    <tr>\n",
       "      <th>title</th>\n",
       "      <td>title</td>\n",
       "      <td>0.000000</td>\n",
       "    </tr>\n",
       "    <tr>\n",
       "      <th>app_name</th>\n",
       "      <td>app_name</td>\n",
       "      <td>0.000000</td>\n",
       "    </tr>\n",
       "    <tr>\n",
       "      <th>early_access</th>\n",
       "      <td>early_access</td>\n",
       "      <td>0.000000</td>\n",
       "    </tr>\n",
       "  </tbody>\n",
       "</table>\n",
       "</div>"
      ],
      "text/plain": [
       "               column_name  percent_missing\n",
       "metascore        metascore        40.845110\n",
       "price                price         1.915394\n",
       "publisher        publisher         1.594901\n",
       "developer        developer         0.864891\n",
       "genres              genres         0.459641\n",
       "specs                specs         0.458543\n",
       "release_date  release_date         0.136831\n",
       "sentiment        sentiment         0.042562\n",
       "tags                  tags         0.002073\n",
       "url                    url         0.000000\n",
       "id                      id         0.000000\n",
       "reviews_url    reviews_url         0.000000\n",
       "title                title         0.000000\n",
       "app_name          app_name         0.000000\n",
       "early_access  early_access         0.000000"
      ]
     },
     "execution_count": 16,
     "metadata": {},
     "output_type": "execute_result"
    }
   ],
   "source": [
    "find_missing_value(mergeddata).head(15)"
   ]
  },
  {
   "cell_type": "markdown",
   "metadata": {},
   "source": [
    "Now check the shape of the dataset"
   ]
  },
  {
   "cell_type": "code",
   "execution_count": 17,
   "metadata": {},
   "outputs": [
    {
     "name": "stdout",
     "output_type": "stream",
     "text": [
      "Merge Data 0\n"
     ]
    }
   ],
   "source": [
    "print('Merge Data',mergeddata.isnull().all(axis=0).sum())"
   ]
  },
  {
   "cell_type": "code",
   "execution_count": 18,
   "metadata": {},
   "outputs": [
    {
     "name": "stdout",
     "output_type": "stream",
     "text": [
      "Merge Data 0\n"
     ]
    }
   ],
   "source": [
    "print(\"Merge Data\",len(mergeddata[mergeddata.isnull().sum(axis=1)>14].index))"
   ]
  },
  {
   "cell_type": "code",
   "execution_count": 19,
   "metadata": {},
   "outputs": [
    {
     "data": {
      "text/plain": [
       "pandas.core.series.Series"
      ]
     },
     "execution_count": 19,
     "metadata": {},
     "output_type": "execute_result"
    }
   ],
   "source": [
    "type(mergeddata.release_date)"
   ]
  },
  {
   "cell_type": "markdown",
   "metadata": {},
   "source": [
    "Feature engineer the date into year and months"
   ]
  },
  {
   "cell_type": "code",
   "execution_count": 20,
   "metadata": {},
   "outputs": [],
   "source": [
    "mergeddata['release_date'] = pd.to_datetime(pd.to_datetime(mergeddata['release_date'], errors='coerce', format='%Y-%m-%d'))"
   ]
  },
  {
   "cell_type": "code",
   "execution_count": 21,
   "metadata": {},
   "outputs": [],
   "source": [
    "mergeddata['release_date_year']=mergeddata['release_date'].dt.year\n",
    "mergeddata['release_date_month']=mergeddata['release_date'].dt.month"
   ]
  },
  {
   "cell_type": "code",
   "execution_count": 22,
   "metadata": {},
   "outputs": [
    {
     "data": {
      "image/png": "[encoded data removed]",
      "text/plain": [
       "<Figure size 432x288 with 1 Axes>"
      ]
     },
     "metadata": {
      "needs_background": "light"
     },
     "output_type": "display_data"
    }
   ],
   "source": [
    "# Plot histogram of release date feat\n",
    "mergeddata['release_date'].hist()\n",
    "plt.title('Game Releases')\n",
    "plt.ylabel('Number of Games')\n",
    "plt.xlabel('Year')\n",
    "plt.show()"
   ]
  },
  {
   "cell_type": "code",
   "execution_count": 23,
   "metadata": {},
   "outputs": [
    {
     "data": {
      "text/plain": [
       "(819988, 19)"
      ]
     },
     "execution_count": 23,
     "metadata": {},
     "output_type": "execute_result"
    }
   ],
   "source": [
    "mergeddata.shape"
   ]
  },
  {
   "cell_type": "code",
   "execution_count": 24,
   "metadata": {},
   "outputs": [
    {
     "data": {
      "text/plain": [
       "Very Positive              410388\n",
       "Overwhelmingly Positive    133583\n",
       "Mixed                      124518\n",
       "Mostly Positive            118654\n",
       "Mostly Negative             13260\n",
       "                            ...  \n",
       "5 user reviews                682\n",
       "3 user reviews                646\n",
       "9 user reviews                608\n",
       "Overwhelmingly Negative       539\n",
       "1 user reviews                523\n",
       "Name: sentiment, Length: 18, dtype: int64"
      ]
     },
     "execution_count": 24,
     "metadata": {},
     "output_type": "execute_result"
    }
   ],
   "source": [
    "mergeddata.sentiment.value_counts()"
   ]
  },
  {
   "cell_type": "code",
   "execution_count": 25,
   "metadata": {},
   "outputs": [
    {
     "data": {
      "text/plain": [
       "array(['Overwhelmingly Positive', 'Very Positive', 'Mostly Positive',\n",
       "       'Mixed', 'Mostly Negative', 'Overwhelmingly Negative', 'Positive',\n",
       "       '2 user reviews', '8 user reviews', '5 user reviews',\n",
       "       '7 user reviews', '6 user reviews', 'Very Negative',\n",
       "       '3 user reviews', 'Negative', '4 user reviews', '1 user reviews',\n",
       "       '9 user reviews', nan], dtype=object)"
      ]
     },
     "execution_count": 25,
     "metadata": {},
     "output_type": "execute_result"
    }
   ],
   "source": [
    "mergeddata.sentiment.unique()"
   ]
  },
  {
   "cell_type": "code",
   "execution_count": 26,
   "metadata": {},
   "outputs": [],
   "source": [
    "mergeddata['sentiment']=mergeddata['sentiment'].replace(['Overwhelmingly Positive','Very Positive','Mostly Positive', 'Positive'],'Positive')\n",
    "mergeddata['sentiment']=mergeddata['sentiment'].replace(['Overwhelmingly Negative','Very Negative','Mostly Negative', 'Negative'],'Negative')\n",
    "mergeddata['sentiment']=mergeddata['sentiment'].replace(['1 user reviews','2 user reviews','3 user reviews', '4 user reviews','5 user reviews','6 user reviews','7 user reviews', '8 user reviews','9 user reviews'],'Mixed')"
   ]
  },
  {
   "cell_type": "code",
   "execution_count": 27,
   "metadata": {},
   "outputs": [
    {
     "data": {
      "image/png": "[encoded data removed]",
      "text/plain": [
       "<Figure size 360x360 with 1 Axes>"
      ]
     },
     "metadata": {
      "needs_background": "light"
     },
     "output_type": "display_data"
    }
   ],
   "source": [
    "plt.figure(figsize=(5,5))\n",
    "sns.countplot(x='sentiment', data=mergeddata)\n",
    "plt.show()"
   ]
  },
  {
   "cell_type": "markdown",
   "metadata": {},
   "source": [
    "Filling the Missing Data to remove null values."
   ]
  },
  {
   "cell_type": "code",
   "execution_count": 28,
   "metadata": {},
   "outputs": [],
   "source": [
    "from sklearn.base import TransformerMixin\n",
    "\n",
    "class DataFrameImputer(TransformerMixin):\n",
    "\n",
    "    def __init__(self):\n",
    "        \"\"\"Impute missing values.\n",
    "\n",
    "        Columns of dtype object are imputed with the most frequent value \n",
    "        in column.\n",
    "\n",
    "        Columns of other types are imputed with mean of column.\n",
    "\n",
    "        \"\"\"\n",
    "    def fit(self, X, y=None):\n",
    "        # Find most common value with value_counts() which returns \n",
    "        # counts in descending order so that the first element is the most frequently-occurring element.\n",
    "        self.fill = pd.Series([X[c].value_counts().index[0]\n",
    "            #Use that if type is object otherwise use mean                   \n",
    "            if X[c].dtype == np.dtype('O') else X[c].mean() for c in X],\n",
    "            index=X.columns)\n",
    "\n",
    "        return self\n",
    "\n",
    "    def transform(self, X, y=None):\n",
    "        return X.fillna(self.fill)"
   ]
  },
  {
   "cell_type": "code",
   "execution_count": 29,
   "metadata": {},
   "outputs": [
    {
     "data": {
      "text/html": [
       "<div>\n",
       "<style scoped>\n",
       "    .dataframe tbody tr th:only-of-type {\n",
       "        vertical-align: middle;\n",
       "    }\n",
       "\n",
       "    .dataframe tbody tr th {\n",
       "        vertical-align: top;\n",
       "    }\n",
       "\n",
       "    .dataframe thead th {\n",
       "        text-align: right;\n",
       "    }\n",
       "</style>\n",
       "<table border=\"1\" class=\"dataframe\">\n",
       "  <thead>\n",
       "    <tr style=\"text-align: right;\">\n",
       "      <th></th>\n",
       "      <th>column_name</th>\n",
       "      <th>percent_missing</th>\n",
       "    </tr>\n",
       "  </thead>\n",
       "  <tbody>\n",
       "    <tr>\n",
       "      <th>metascore</th>\n",
       "      <td>metascore</td>\n",
       "      <td>40.845110</td>\n",
       "    </tr>\n",
       "    <tr>\n",
       "      <th>price</th>\n",
       "      <td>price</td>\n",
       "      <td>1.915394</td>\n",
       "    </tr>\n",
       "    <tr>\n",
       "      <th>publisher</th>\n",
       "      <td>publisher</td>\n",
       "      <td>1.594901</td>\n",
       "    </tr>\n",
       "    <tr>\n",
       "      <th>developer</th>\n",
       "      <td>developer</td>\n",
       "      <td>0.864891</td>\n",
       "    </tr>\n",
       "    <tr>\n",
       "      <th>release_date_month</th>\n",
       "      <td>release_date_month</td>\n",
       "      <td>0.717937</td>\n",
       "    </tr>\n",
       "    <tr>\n",
       "      <th>...</th>\n",
       "      <td>...</td>\n",
       "      <td>...</td>\n",
       "    </tr>\n",
       "    <tr>\n",
       "      <th>url</th>\n",
       "      <td>url</td>\n",
       "      <td>0.000000</td>\n",
       "    </tr>\n",
       "    <tr>\n",
       "      <th>title</th>\n",
       "      <td>title</td>\n",
       "      <td>0.000000</td>\n",
       "    </tr>\n",
       "    <tr>\n",
       "      <th>app_name</th>\n",
       "      <td>app_name</td>\n",
       "      <td>0.000000</td>\n",
       "    </tr>\n",
       "    <tr>\n",
       "      <th>owned</th>\n",
       "      <td>owned</td>\n",
       "      <td>0.000000</td>\n",
       "    </tr>\n",
       "    <tr>\n",
       "      <th>uid</th>\n",
       "      <td>uid</td>\n",
       "      <td>0.000000</td>\n",
       "    </tr>\n",
       "  </tbody>\n",
       "</table>\n",
       "<p>19 rows × 2 columns</p>\n",
       "</div>"
      ],
      "text/plain": [
       "                           column_name  percent_missing\n",
       "metascore                    metascore        40.845110\n",
       "price                            price         1.915394\n",
       "publisher                    publisher         1.594901\n",
       "developer                    developer         0.864891\n",
       "release_date_month  release_date_month         0.717937\n",
       "...                                ...              ...\n",
       "url                                url         0.000000\n",
       "title                            title         0.000000\n",
       "app_name                      app_name         0.000000\n",
       "owned                            owned         0.000000\n",
       "uid                                uid         0.000000\n",
       "\n",
       "[19 rows x 2 columns]"
      ]
     },
     "execution_count": 29,
     "metadata": {},
     "output_type": "execute_result"
    }
   ],
   "source": [
    "find_missing_value(mergeddata)"
   ]
  },
  {
   "cell_type": "code",
   "execution_count": 30,
   "metadata": {},
   "outputs": [],
   "source": [
    "mergeddata = DataFrameImputer().fit_transform(mergeddata)"
   ]
  },
  {
   "cell_type": "code",
   "execution_count": 31,
   "metadata": {},
   "outputs": [
    {
     "data": {
      "text/html": [
       "<div>\n",
       "<style scoped>\n",
       "    .dataframe tbody tr th:only-of-type {\n",
       "        vertical-align: middle;\n",
       "    }\n",
       "\n",
       "    .dataframe tbody tr th {\n",
       "        vertical-align: top;\n",
       "    }\n",
       "\n",
       "    .dataframe thead th {\n",
       "        text-align: right;\n",
       "    }\n",
       "</style>\n",
       "<table border=\"1\" class=\"dataframe\">\n",
       "  <thead>\n",
       "    <tr style=\"text-align: right;\">\n",
       "      <th></th>\n",
       "      <th>column_name</th>\n",
       "      <th>percent_missing</th>\n",
       "    </tr>\n",
       "  </thead>\n",
       "  <tbody>\n",
       "    <tr>\n",
       "      <th>uid</th>\n",
       "      <td>uid</td>\n",
       "      <td>0.0</td>\n",
       "    </tr>\n",
       "    <tr>\n",
       "      <th>reviews_url</th>\n",
       "      <td>reviews_url</td>\n",
       "      <td>0.0</td>\n",
       "    </tr>\n",
       "    <tr>\n",
       "      <th>release_date_year</th>\n",
       "      <td>release_date_year</td>\n",
       "      <td>0.0</td>\n",
       "    </tr>\n",
       "    <tr>\n",
       "      <th>metascore</th>\n",
       "      <td>metascore</td>\n",
       "      <td>0.0</td>\n",
       "    </tr>\n",
       "    <tr>\n",
       "      <th>sentiment</th>\n",
       "      <td>sentiment</td>\n",
       "      <td>0.0</td>\n",
       "    </tr>\n",
       "    <tr>\n",
       "      <th>...</th>\n",
       "      <td>...</td>\n",
       "      <td>...</td>\n",
       "    </tr>\n",
       "    <tr>\n",
       "      <th>app_name</th>\n",
       "      <td>app_name</td>\n",
       "      <td>0.0</td>\n",
       "    </tr>\n",
       "    <tr>\n",
       "      <th>genres</th>\n",
       "      <td>genres</td>\n",
       "      <td>0.0</td>\n",
       "    </tr>\n",
       "    <tr>\n",
       "      <th>publisher</th>\n",
       "      <td>publisher</td>\n",
       "      <td>0.0</td>\n",
       "    </tr>\n",
       "    <tr>\n",
       "      <th>owned</th>\n",
       "      <td>owned</td>\n",
       "      <td>0.0</td>\n",
       "    </tr>\n",
       "    <tr>\n",
       "      <th>release_date_month</th>\n",
       "      <td>release_date_month</td>\n",
       "      <td>0.0</td>\n",
       "    </tr>\n",
       "  </tbody>\n",
       "</table>\n",
       "<p>19 rows × 2 columns</p>\n",
       "</div>"
      ],
      "text/plain": [
       "                           column_name  percent_missing\n",
       "uid                                uid              0.0\n",
       "reviews_url                reviews_url              0.0\n",
       "release_date_year    release_date_year              0.0\n",
       "metascore                    metascore              0.0\n",
       "sentiment                    sentiment              0.0\n",
       "...                                ...              ...\n",
       "app_name                      app_name              0.0\n",
       "genres                          genres              0.0\n",
       "publisher                    publisher              0.0\n",
       "owned                            owned              0.0\n",
       "release_date_month  release_date_month              0.0\n",
       "\n",
       "[19 rows x 2 columns]"
      ]
     },
     "execution_count": 31,
     "metadata": {},
     "output_type": "execute_result"
    }
   ],
   "source": [
    "find_missing_value(mergeddata)"
   ]
  },
  {
   "cell_type": "code",
   "execution_count": 32,
   "metadata": {},
   "outputs": [],
   "source": [
    "svd_data=mergeddata.copy(deep=True)"
   ]
  },
  {
   "cell_type": "code",
   "execution_count": 33,
   "metadata": {},
   "outputs": [
    {
     "data": {
      "text/html": [
       "<div>\n",
       "<style scoped>\n",
       "    .dataframe tbody tr th:only-of-type {\n",
       "        vertical-align: middle;\n",
       "    }\n",
       "\n",
       "    .dataframe tbody tr th {\n",
       "        vertical-align: top;\n",
       "    }\n",
       "\n",
       "    .dataframe thead th {\n",
       "        text-align: right;\n",
       "    }\n",
       "</style>\n",
       "<table border=\"1\" class=\"dataframe\">\n",
       "  <thead>\n",
       "    <tr style=\"text-align: right;\">\n",
       "      <th></th>\n",
       "      <th>uid</th>\n",
       "      <th>id</th>\n",
       "      <th>owned</th>\n",
       "      <th>publisher</th>\n",
       "      <th>genres</th>\n",
       "      <th>app_name</th>\n",
       "      <th>title</th>\n",
       "      <th>url</th>\n",
       "      <th>release_date</th>\n",
       "      <th>tags</th>\n",
       "      <th>reviews_url</th>\n",
       "      <th>specs</th>\n",
       "      <th>price</th>\n",
       "      <th>early_access</th>\n",
       "      <th>developer</th>\n",
       "      <th>sentiment</th>\n",
       "      <th>metascore</th>\n",
       "      <th>release_date_year</th>\n",
       "      <th>release_date_month</th>\n",
       "    </tr>\n",
       "  </thead>\n",
       "  <tbody>\n",
       "    <tr>\n",
       "      <th>0</th>\n",
       "      <td>0</td>\n",
       "      <td>10</td>\n",
       "      <td>1.0</td>\n",
       "      <td>Valve</td>\n",
       "      <td>['Action']</td>\n",
       "      <td>Counter-Strike</td>\n",
       "      <td>Counter-Strike</td>\n",
       "      <td>http://store.steampowered.com/app/10/CounterSt...</td>\n",
       "      <td>2000-11-01</td>\n",
       "      <td>['Action', 'FPS', 'Multiplayer', 'Shooter', 'C...</td>\n",
       "      <td>http://steamcommunity.com/app/10/reviews/?brow...</td>\n",
       "      <td>['Multi-player', 'Valve Anti-Cheat enabled']</td>\n",
       "      <td>9.99</td>\n",
       "      <td>False</td>\n",
       "      <td>Valve</td>\n",
       "      <td>Positive</td>\n",
       "      <td>88.0</td>\n",
       "      <td>2000.0</td>\n",
       "      <td>11.0</td>\n",
       "    </tr>\n",
       "    <tr>\n",
       "      <th>1</th>\n",
       "      <td>1</td>\n",
       "      <td>10</td>\n",
       "      <td>1.0</td>\n",
       "      <td>Valve</td>\n",
       "      <td>['Action']</td>\n",
       "      <td>Counter-Strike</td>\n",
       "      <td>Counter-Strike</td>\n",
       "      <td>http://store.steampowered.com/app/10/CounterSt...</td>\n",
       "      <td>2000-11-01</td>\n",
       "      <td>['Action', 'FPS', 'Multiplayer', 'Shooter', 'C...</td>\n",
       "      <td>http://steamcommunity.com/app/10/reviews/?brow...</td>\n",
       "      <td>['Multi-player', 'Valve Anti-Cheat enabled']</td>\n",
       "      <td>9.99</td>\n",
       "      <td>False</td>\n",
       "      <td>Valve</td>\n",
       "      <td>Positive</td>\n",
       "      <td>88.0</td>\n",
       "      <td>2000.0</td>\n",
       "      <td>11.0</td>\n",
       "    </tr>\n",
       "    <tr>\n",
       "      <th>2</th>\n",
       "      <td>3</td>\n",
       "      <td>10</td>\n",
       "      <td>1.0</td>\n",
       "      <td>Valve</td>\n",
       "      <td>['Action']</td>\n",
       "      <td>Counter-Strike</td>\n",
       "      <td>Counter-Strike</td>\n",
       "      <td>http://store.steampowered.com/app/10/CounterSt...</td>\n",
       "      <td>2000-11-01</td>\n",
       "      <td>['Action', 'FPS', 'Multiplayer', 'Shooter', 'C...</td>\n",
       "      <td>http://steamcommunity.com/app/10/reviews/?brow...</td>\n",
       "      <td>['Multi-player', 'Valve Anti-Cheat enabled']</td>\n",
       "      <td>9.99</td>\n",
       "      <td>False</td>\n",
       "      <td>Valve</td>\n",
       "      <td>Positive</td>\n",
       "      <td>88.0</td>\n",
       "      <td>2000.0</td>\n",
       "      <td>11.0</td>\n",
       "    </tr>\n",
       "    <tr>\n",
       "      <th>3</th>\n",
       "      <td>4</td>\n",
       "      <td>10</td>\n",
       "      <td>1.0</td>\n",
       "      <td>Valve</td>\n",
       "      <td>['Action']</td>\n",
       "      <td>Counter-Strike</td>\n",
       "      <td>Counter-Strike</td>\n",
       "      <td>http://store.steampowered.com/app/10/CounterSt...</td>\n",
       "      <td>2000-11-01</td>\n",
       "      <td>['Action', 'FPS', 'Multiplayer', 'Shooter', 'C...</td>\n",
       "      <td>http://steamcommunity.com/app/10/reviews/?brow...</td>\n",
       "      <td>['Multi-player', 'Valve Anti-Cheat enabled']</td>\n",
       "      <td>9.99</td>\n",
       "      <td>False</td>\n",
       "      <td>Valve</td>\n",
       "      <td>Positive</td>\n",
       "      <td>88.0</td>\n",
       "      <td>2000.0</td>\n",
       "      <td>11.0</td>\n",
       "    </tr>\n",
       "    <tr>\n",
       "      <th>4</th>\n",
       "      <td>10</td>\n",
       "      <td>10</td>\n",
       "      <td>1.0</td>\n",
       "      <td>Valve</td>\n",
       "      <td>['Action']</td>\n",
       "      <td>Counter-Strike</td>\n",
       "      <td>Counter-Strike</td>\n",
       "      <td>http://store.steampowered.com/app/10/CounterSt...</td>\n",
       "      <td>2000-11-01</td>\n",
       "      <td>['Action', 'FPS', 'Multiplayer', 'Shooter', 'C...</td>\n",
       "      <td>http://steamcommunity.com/app/10/reviews/?brow...</td>\n",
       "      <td>['Multi-player', 'Valve Anti-Cheat enabled']</td>\n",
       "      <td>9.99</td>\n",
       "      <td>False</td>\n",
       "      <td>Valve</td>\n",
       "      <td>Positive</td>\n",
       "      <td>88.0</td>\n",
       "      <td>2000.0</td>\n",
       "      <td>11.0</td>\n",
       "    </tr>\n",
       "  </tbody>\n",
       "</table>\n",
       "</div>"
      ],
      "text/plain": [
       "   uid  id  owned publisher      genres        app_name           title  \\\n",
       "0    0  10    1.0     Valve  ['Action']  Counter-Strike  Counter-Strike   \n",
       "1    1  10    1.0     Valve  ['Action']  Counter-Strike  Counter-Strike   \n",
       "2    3  10    1.0     Valve  ['Action']  Counter-Strike  Counter-Strike   \n",
       "3    4  10    1.0     Valve  ['Action']  Counter-Strike  Counter-Strike   \n",
       "4   10  10    1.0     Valve  ['Action']  Counter-Strike  Counter-Strike   \n",
       "\n",
       "                                                 url release_date  \\\n",
       "0  http://store.steampowered.com/app/10/CounterSt...   2000-11-01   \n",
       "1  http://store.steampowered.com/app/10/CounterSt...   2000-11-01   \n",
       "2  http://store.steampowered.com/app/10/CounterSt...   2000-11-01   \n",
       "3  http://store.steampowered.com/app/10/CounterSt...   2000-11-01   \n",
       "4  http://store.steampowered.com/app/10/CounterSt...   2000-11-01   \n",
       "\n",
       "                                                tags  \\\n",
       "0  ['Action', 'FPS', 'Multiplayer', 'Shooter', 'C...   \n",
       "1  ['Action', 'FPS', 'Multiplayer', 'Shooter', 'C...   \n",
       "2  ['Action', 'FPS', 'Multiplayer', 'Shooter', 'C...   \n",
       "3  ['Action', 'FPS', 'Multiplayer', 'Shooter', 'C...   \n",
       "4  ['Action', 'FPS', 'Multiplayer', 'Shooter', 'C...   \n",
       "\n",
       "                                         reviews_url  \\\n",
       "0  http://steamcommunity.com/app/10/reviews/?brow...   \n",
       "1  http://steamcommunity.com/app/10/reviews/?brow...   \n",
       "2  http://steamcommunity.com/app/10/reviews/?brow...   \n",
       "3  http://steamcommunity.com/app/10/reviews/?brow...   \n",
       "4  http://steamcommunity.com/app/10/reviews/?brow...   \n",
       "\n",
       "                                          specs price  early_access developer  \\\n",
       "0  ['Multi-player', 'Valve Anti-Cheat enabled']  9.99         False     Valve   \n",
       "1  ['Multi-player', 'Valve Anti-Cheat enabled']  9.99         False     Valve   \n",
       "2  ['Multi-player', 'Valve Anti-Cheat enabled']  9.99         False     Valve   \n",
       "3  ['Multi-player', 'Valve Anti-Cheat enabled']  9.99         False     Valve   \n",
       "4  ['Multi-player', 'Valve Anti-Cheat enabled']  9.99         False     Valve   \n",
       "\n",
       "  sentiment  metascore  release_date_year  release_date_month  \n",
       "0  Positive       88.0             2000.0                11.0  \n",
       "1  Positive       88.0             2000.0                11.0  \n",
       "2  Positive       88.0             2000.0                11.0  \n",
       "3  Positive       88.0             2000.0                11.0  \n",
       "4  Positive       88.0             2000.0                11.0  "
      ]
     },
     "execution_count": 33,
     "metadata": {},
     "output_type": "execute_result"
    }
   ],
   "source": [
    "mergeddata.head()"
   ]
  },
  {
   "cell_type": "code",
   "execution_count": 34,
   "metadata": {},
   "outputs": [
    {
     "name": "stdout",
     "output_type": "stream",
     "text": [
      "<bound method IndexOpsMixin.tolist of Index(['publisher', 'genres', 'app_name', 'title', 'url', 'release_date',\n",
      "       'tags', 'reviews_url', 'specs', 'price', 'early_access', 'developer',\n",
      "       'sentiment'],\n",
      "      dtype='object')>\n"
     ]
    }
   ],
   "source": [
    "print(mergeddata.select_dtypes(exclude=np.number).columns.tolist)"
   ]
  },
  {
   "cell_type": "code",
   "execution_count": 35,
   "metadata": {},
   "outputs": [],
   "source": [
    "import category_encoders as ce\n",
    "\n",
    "def encode_category_data(dataset_var):\n",
    "       #We establish the Ordinal encoder which will convert each categorical label to a number\n",
    "       # We specify the columns we want to transform, we ask it to handle missing values if any and also to return a dataframe                     instead of an np array\n",
    "       encode_var = ce.OrdinalEncoder(cols=['publisher', 'genres', 'app_name', 'title', 'url', 'release_date',\n",
    "       'tags', 'reviews_url', 'specs', 'price', 'early_access', 'developer',\n",
    "       'sentiment'],handle_missing='return_nan',return_df= True)\n",
    "       dataset_var=encode_var.fit_transform(dataset_var)\n",
    "       return dataset_var"
   ]
  },
  {
   "cell_type": "code",
   "execution_count": 36,
   "metadata": {},
   "outputs": [],
   "source": [
    "#We now fit the model and transform the data and put it in X which is a dataframe\n",
    "mergeddata=encode_category_data(mergeddata)"
   ]
  },
  {
   "cell_type": "code",
   "execution_count": 37,
   "metadata": {},
   "outputs": [
    {
     "data": {
      "text/plain": [
       "1.0    673232\n",
       "2.0    131330\n",
       "3.0     15426\n",
       "Name: sentiment, dtype: int64"
      ]
     },
     "execution_count": 37,
     "metadata": {},
     "output_type": "execute_result"
    }
   ],
   "source": [
    "mergeddata.sentiment.value_counts()"
   ]
  },
  {
   "cell_type": "code",
   "execution_count": 38,
   "metadata": {},
   "outputs": [
    {
     "data": {
      "text/html": [
       "<div>\n",
       "<style scoped>\n",
       "    .dataframe tbody tr th:only-of-type {\n",
       "        vertical-align: middle;\n",
       "    }\n",
       "\n",
       "    .dataframe tbody tr th {\n",
       "        vertical-align: top;\n",
       "    }\n",
       "\n",
       "    .dataframe thead th {\n",
       "        text-align: right;\n",
       "    }\n",
       "</style>\n",
       "<table border=\"1\" class=\"dataframe\">\n",
       "  <thead>\n",
       "    <tr style=\"text-align: right;\">\n",
       "      <th></th>\n",
       "      <th>uid</th>\n",
       "      <th>id</th>\n",
       "      <th>owned</th>\n",
       "      <th>publisher</th>\n",
       "      <th>genres</th>\n",
       "      <th>app_name</th>\n",
       "      <th>title</th>\n",
       "      <th>url</th>\n",
       "      <th>release_date</th>\n",
       "      <th>tags</th>\n",
       "      <th>reviews_url</th>\n",
       "      <th>specs</th>\n",
       "      <th>price</th>\n",
       "      <th>early_access</th>\n",
       "      <th>developer</th>\n",
       "      <th>sentiment</th>\n",
       "      <th>metascore</th>\n",
       "      <th>release_date_year</th>\n",
       "      <th>release_date_month</th>\n",
       "    </tr>\n",
       "  </thead>\n",
       "  <tbody>\n",
       "    <tr>\n",
       "      <th>0</th>\n",
       "      <td>0</td>\n",
       "      <td>10</td>\n",
       "      <td>1.0</td>\n",
       "      <td>1.0</td>\n",
       "      <td>1.0</td>\n",
       "      <td>1.0</td>\n",
       "      <td>1.0</td>\n",
       "      <td>1.0</td>\n",
       "      <td>1.0</td>\n",
       "      <td>1.0</td>\n",
       "      <td>1.0</td>\n",
       "      <td>1.0</td>\n",
       "      <td>1.0</td>\n",
       "      <td>1.0</td>\n",
       "      <td>1.0</td>\n",
       "      <td>1.0</td>\n",
       "      <td>88.0</td>\n",
       "      <td>2000.0</td>\n",
       "      <td>11.0</td>\n",
       "    </tr>\n",
       "    <tr>\n",
       "      <th>1</th>\n",
       "      <td>1</td>\n",
       "      <td>10</td>\n",
       "      <td>1.0</td>\n",
       "      <td>1.0</td>\n",
       "      <td>1.0</td>\n",
       "      <td>1.0</td>\n",
       "      <td>1.0</td>\n",
       "      <td>1.0</td>\n",
       "      <td>1.0</td>\n",
       "      <td>1.0</td>\n",
       "      <td>1.0</td>\n",
       "      <td>1.0</td>\n",
       "      <td>1.0</td>\n",
       "      <td>1.0</td>\n",
       "      <td>1.0</td>\n",
       "      <td>1.0</td>\n",
       "      <td>88.0</td>\n",
       "      <td>2000.0</td>\n",
       "      <td>11.0</td>\n",
       "    </tr>\n",
       "    <tr>\n",
       "      <th>2</th>\n",
       "      <td>3</td>\n",
       "      <td>10</td>\n",
       "      <td>1.0</td>\n",
       "      <td>1.0</td>\n",
       "      <td>1.0</td>\n",
       "      <td>1.0</td>\n",
       "      <td>1.0</td>\n",
       "      <td>1.0</td>\n",
       "      <td>1.0</td>\n",
       "      <td>1.0</td>\n",
       "      <td>1.0</td>\n",
       "      <td>1.0</td>\n",
       "      <td>1.0</td>\n",
       "      <td>1.0</td>\n",
       "      <td>1.0</td>\n",
       "      <td>1.0</td>\n",
       "      <td>88.0</td>\n",
       "      <td>2000.0</td>\n",
       "      <td>11.0</td>\n",
       "    </tr>\n",
       "    <tr>\n",
       "      <th>3</th>\n",
       "      <td>4</td>\n",
       "      <td>10</td>\n",
       "      <td>1.0</td>\n",
       "      <td>1.0</td>\n",
       "      <td>1.0</td>\n",
       "      <td>1.0</td>\n",
       "      <td>1.0</td>\n",
       "      <td>1.0</td>\n",
       "      <td>1.0</td>\n",
       "      <td>1.0</td>\n",
       "      <td>1.0</td>\n",
       "      <td>1.0</td>\n",
       "      <td>1.0</td>\n",
       "      <td>1.0</td>\n",
       "      <td>1.0</td>\n",
       "      <td>1.0</td>\n",
       "      <td>88.0</td>\n",
       "      <td>2000.0</td>\n",
       "      <td>11.0</td>\n",
       "    </tr>\n",
       "    <tr>\n",
       "      <th>4</th>\n",
       "      <td>10</td>\n",
       "      <td>10</td>\n",
       "      <td>1.0</td>\n",
       "      <td>1.0</td>\n",
       "      <td>1.0</td>\n",
       "      <td>1.0</td>\n",
       "      <td>1.0</td>\n",
       "      <td>1.0</td>\n",
       "      <td>1.0</td>\n",
       "      <td>1.0</td>\n",
       "      <td>1.0</td>\n",
       "      <td>1.0</td>\n",
       "      <td>1.0</td>\n",
       "      <td>1.0</td>\n",
       "      <td>1.0</td>\n",
       "      <td>1.0</td>\n",
       "      <td>88.0</td>\n",
       "      <td>2000.0</td>\n",
       "      <td>11.0</td>\n",
       "    </tr>\n",
       "  </tbody>\n",
       "</table>\n",
       "</div>"
      ],
      "text/plain": [
       "   uid  id  owned  publisher  genres  app_name  title  url  release_date  \\\n",
       "0    0  10    1.0        1.0     1.0       1.0    1.0  1.0           1.0   \n",
       "1    1  10    1.0        1.0     1.0       1.0    1.0  1.0           1.0   \n",
       "2    3  10    1.0        1.0     1.0       1.0    1.0  1.0           1.0   \n",
       "3    4  10    1.0        1.0     1.0       1.0    1.0  1.0           1.0   \n",
       "4   10  10    1.0        1.0     1.0       1.0    1.0  1.0           1.0   \n",
       "\n",
       "   tags  reviews_url  specs  price  early_access  developer  sentiment  \\\n",
       "0   1.0          1.0    1.0    1.0           1.0        1.0        1.0   \n",
       "1   1.0          1.0    1.0    1.0           1.0        1.0        1.0   \n",
       "2   1.0          1.0    1.0    1.0           1.0        1.0        1.0   \n",
       "3   1.0          1.0    1.0    1.0           1.0        1.0        1.0   \n",
       "4   1.0          1.0    1.0    1.0           1.0        1.0        1.0   \n",
       "\n",
       "   metascore  release_date_year  release_date_month  \n",
       "0       88.0             2000.0                11.0  \n",
       "1       88.0             2000.0                11.0  \n",
       "2       88.0             2000.0                11.0  \n",
       "3       88.0             2000.0                11.0  \n",
       "4       88.0             2000.0                11.0  "
      ]
     },
     "execution_count": 38,
     "metadata": {},
     "output_type": "execute_result"
    }
   ],
   "source": [
    "mergeddata.head()"
   ]
  },
  {
   "cell_type": "markdown",
   "metadata": {},
   "source": [
    "Due to hardware Limitation,I am only taking 2Lakh Data for Model"
   ]
  },
  {
   "cell_type": "code",
   "execution_count": 39,
   "metadata": {},
   "outputs": [],
   "source": [
    "temp = 200000\n",
    "mergeddata=mergeddata[:temp]"
   ]
  },
  {
   "cell_type": "code",
   "execution_count": 40,
   "metadata": {},
   "outputs": [
    {
     "data": {
      "text/plain": [
       "1.0    191818\n",
       "2.0      5693\n",
       "3.0      2489\n",
       "Name: sentiment, dtype: int64"
      ]
     },
     "execution_count": 40,
     "metadata": {},
     "output_type": "execute_result"
    }
   ],
   "source": [
    "mergeddata.sentiment.value_counts()"
   ]
  },
  {
   "cell_type": "markdown",
   "metadata": {},
   "source": [
    "Choose the Y and x for the Split"
   ]
  },
  {
   "cell_type": "code",
   "execution_count": 41,
   "metadata": {},
   "outputs": [
    {
     "name": "stdout",
     "output_type": "stream",
     "text": [
      "(200000, 1)\n",
      "(200000, 18)\n"
     ]
    }
   ],
   "source": [
    "X = mergeddata.iloc[:,mergeddata.columns!='sentiment']\n",
    "y = mergeddata.iloc[:,mergeddata.columns=='sentiment']\n",
    "print(y.shape)\n",
    "print(X.shape)\n",
    "del mergeddata"
   ]
  },
  {
   "cell_type": "markdown",
   "metadata": {},
   "source": [
    "Apply the K-Fold to split the Test and Train Equally"
   ]
  },
  {
   "cell_type": "code",
   "execution_count": 42,
   "metadata": {},
   "outputs": [],
   "source": [
    "from sklearn.model_selection import StratifiedKFold\n",
    "variables = StratifiedKFold(n_splits=4)\n",
    "\n",
    "for train,test in variables.split(X,y):\n",
    "    x_train,x_test=X.iloc[train],X.iloc[test]\n",
    "    y_train,y_test=y.iloc[train],y.iloc[test]"
   ]
  },
  {
   "cell_type": "code",
   "execution_count": 43,
   "metadata": {},
   "outputs": [],
   "source": [
    "from sklearn.metrics import accuracy_score, balanced_accuracy_score, f1_score\n",
    "from sklearn.metrics import confusion_matrix,plot_confusion_matrix,classification_report\n",
    "from sklearn.metrics import accuracy_score\n",
    "from imblearn.over_sampling import SMOTE\n",
    "from sklearn.preprocessing import Normalizer\n",
    "from sklearn.preprocessing import StandardScaler\n",
    "from sklearn.model_selection import GridSearchCV,RandomizedSearchCV\n",
    "\n",
    "from sklearn.pipeline import Pipeline\n",
    "from sklearn.decomposition import PCA\n",
    "from sklearn import tree\n",
    "from sklearn import svm \n",
    "from sklearn.ensemble import RandomForestClassifier\n",
    "from sklearn.neighbors import KNeighborsClassifier\n",
    "from surprise import SVD\n",
    "from surprise import Dataset\n",
    "from surprise.model_selection import train_test_split,cross_validate\n",
    "from surprise import Reader ,accuracy"
   ]
  },
  {
   "cell_type": "code",
   "execution_count": 44,
   "metadata": {},
   "outputs": [],
   "source": [
    "def check_standalone_prediction(smote_flag,norm_flag,scale_flag,pca_flag,x_train,y_train,x_test,y_test,model_var,modelName):\n",
    "    if smote_flag == True:\n",
    "        sm=SMOTE(random_state=42)\n",
    "        x_train, y_train = sm.fit_resample(x_train, y_train)\n",
    "    if norm_flag == True:\n",
    "        normalizer = Normalizer(norm='l2')\n",
    "        x_train = normalizer.fit_transform(x_train)\n",
    "        x_test = normalizer.fit_transform(x_test)\n",
    "    if scale_flag == True:\n",
    "        scaler = StandardScaler()\n",
    "        x_train=scaler.fit_transform(x_train)\n",
    "        x_test=scaler.transform(x_test)\n",
    "    if pca_flag == True:\n",
    "        pca=PCA(n_components=2)\n",
    "        x_train = pca.fit_transform(x_train)\n",
    "        x_test = pca.fit_transform(x_test)\n",
    "    \n",
    "    model_class = model_var.fit(x_train,y_train)\n",
    "    y_hat=model_class.predict(x_test)       \n",
    "\n",
    "    print(f\"Accuracy Score {modelName}: {accuracy_score(y_test,y_hat)}\")\n",
    "    print(f\"Confusion Matrix  {modelName}: {confusion_matrix(y_test,y_hat)}\")\n",
    "    print(f\"Balanced Accuracy {modelName}: {balanced_accuracy_score(y_test,y_hat)}\") \n",
    "    print(f\"Classification_Report {modelName}: {classification_report(y_test,y_hat)}\") \n",
    "        \n",
    "    \n",
    "    print(f\"------------------------------------------------------\") \n",
    "    plot_confusion_matrix(model_var,x_test,y_test)"
   ]
  },
  {
   "cell_type": "markdown",
   "metadata": {},
   "source": [
    "Applying SVD Algorithm"
   ]
  },
  {
   "cell_type": "code",
   "execution_count": 45,
   "metadata": {},
   "outputs": [],
   "source": [
    "df_svd= svd_data[['uid', 'id', 'sentiment']].copy()\n",
    "del svd_data"
   ]
  },
  {
   "cell_type": "code",
   "execution_count": 46,
   "metadata": {},
   "outputs": [],
   "source": [
    "encode=ce.OrdinalEncoder(cols=['sentiment'],handle_missing='return_nan',return_df= True)\n",
    "df_svd=encode.fit_transform(df_svd)\n"
   ]
  },
  {
   "cell_type": "code",
   "execution_count": 47,
   "metadata": {},
   "outputs": [
    {
     "data": {
      "text/plain": [
       "1.0    673232\n",
       "2.0    131330\n",
       "3.0     15426\n",
       "Name: sentiment, dtype: int64"
      ]
     },
     "execution_count": 47,
     "metadata": {},
     "output_type": "execute_result"
    }
   ],
   "source": [
    "df_svd.sentiment.value_counts()"
   ]
  },
  {
   "cell_type": "code",
   "execution_count": 48,
   "metadata": {},
   "outputs": [],
   "source": [
    "reader=Reader(rating_scale=(1, 3))\n",
    "data = Dataset.load_from_df(df_svd[['uid', 'id', 'sentiment']], reader)"
   ]
  },
  {
   "cell_type": "code",
   "execution_count": 49,
   "metadata": {},
   "outputs": [
    {
     "data": {
      "text/plain": [
       "<surprise.prediction_algorithms.matrix_factorization.SVD at 0x247cf8f4fa0>"
      ]
     },
     "execution_count": 49,
     "metadata": {},
     "output_type": "execute_result"
    }
   ],
   "source": [
    "svd_train,svd_test=train_test_split(data,test_size=.20)\n",
    "model = SVD()\n",
    "model.fit(svd_train)"
   ]
  },
  {
   "cell_type": "code",
   "execution_count": 50,
   "metadata": {},
   "outputs": [
    {
     "name": "stdout",
     "output_type": "stream",
     "text": [
      "RMSE: 0.0831\n"
     ]
    },
    {
     "data": {
      "text/plain": [
       "0.08312481239006464"
      ]
     },
     "execution_count": 50,
     "metadata": {},
     "output_type": "execute_result"
    }
   ],
   "source": [
    "pred_test=model.test(svd_test)\n",
    "accuracy.rmse(pred_test)"
   ]
  },
  {
   "cell_type": "code",
   "execution_count": 51,
   "metadata": {},
   "outputs": [
    {
     "data": {
      "text/plain": [
       "1"
      ]
     },
     "execution_count": 51,
     "metadata": {},
     "output_type": "execute_result"
    }
   ],
   "source": [
    "pred=model.predict(15,10)\n",
    "pred.est"
   ]
  },
  {
   "cell_type": "code",
   "execution_count": 52,
   "metadata": {},
   "outputs": [
    {
     "name": "stdout",
     "output_type": "stream",
     "text": [
      "Evaluating RMSE, MAE of algorithm SVD on 5 split(s).\n",
      "\n",
      "                  Fold 1  Fold 2  Fold 3  Fold 4  Fold 5  Mean    Std     \n",
      "RMSE (testset)    0.0838  0.0853  0.0852  0.0840  0.0849  0.0846  0.0006  \n",
      "MAE (testset)     0.0354  0.0359  0.0360  0.0354  0.0358  0.0357  0.0002  \n",
      "Fit time          28.24   28.60   28.46   28.47   28.47   28.45   0.12    \n",
      "Test time         1.28    1.05    1.08    1.28    1.06    1.15    0.11    \n"
     ]
    },
    {
     "data": {
      "text/plain": [
       "{'test_rmse': array([0.08380559, 0.08527449, 0.08518199, 0.08401503, 0.08487453]),\n",
       " 'test_mae': array([0.03542969, 0.03594819, 0.03599999, 0.03543335, 0.03583647]),\n",
       " 'fit_time': (28.238356113433838,\n",
       "  28.597787141799927,\n",
       "  28.458404302597046,\n",
       "  28.470713138580322,\n",
       "  28.465381860733032),\n",
       " 'test_time': (1.2832889556884766,\n",
       "  1.0502362251281738,\n",
       "  1.0782546997070312,\n",
       "  1.2783007621765137,\n",
       "  1.0552377700805664)}"
      ]
     },
     "execution_count": 52,
     "metadata": {},
     "output_type": "execute_result"
    }
   ],
   "source": [
    "cross_validate(model,data,cv=5,verbose=True)"
   ]
  },
  {
   "cell_type": "markdown",
   "metadata": {},
   "source": [
    "Apply Other Models"
   ]
  },
  {
   "cell_type": "code",
   "execution_count": 53,
   "metadata": {},
   "outputs": [
    {
     "name": "stdout",
     "output_type": "stream",
     "text": [
      "Accuracy Score Decision Tree: 0.8725\n",
      "Confusion Matrix  Decision Tree: [[42925  4389   640]\n",
      " [ 1223   200     0]\n",
      " [  123     0   500]]\n",
      "Balanced Accuracy Decision Tree: 0.6127483403354425\n",
      "Classification_Report Decision Tree:               precision    recall  f1-score   support\n",
      "\n",
      "         1.0       0.97      0.90      0.93     47954\n",
      "         2.0       0.04      0.14      0.07      1423\n",
      "         3.0       0.44      0.80      0.57       623\n",
      "\n",
      "    accuracy                           0.87     50000\n",
      "   macro avg       0.48      0.61      0.52     50000\n",
      "weighted avg       0.94      0.87      0.90     50000\n",
      "\n",
      "------------------------------------------------------\n"
     ]
    },
    {
     "data": {
      "image/png": "[encoded data removed]",
      "text/plain": [
       "<Figure size 432x288 with 2 Axes>"
      ]
     },
     "metadata": {
      "needs_background": "light"
     },
     "output_type": "display_data"
    }
   ],
   "source": [
    "smote_flag=True\n",
    "norm_flag=False\n",
    "scale_flag=True\n",
    "pca_flag=False\n",
    "decision_tree=tree.DecisionTreeClassifier()\n",
    "check_standalone_prediction(smote_flag,norm_flag,scale_flag,pca_flag,x_train.copy(deep=False),y_train.copy(deep=False),x_test.copy(deep=False),y_test.copy(deep=False),decision_tree,\"Decision Tree\")"
   ]
  },
  {
   "cell_type": "code",
   "execution_count": 54,
   "metadata": {},
   "outputs": [
    {
     "name": "stderr",
     "output_type": "stream",
     "text": [
      "<ipython-input-44-29664ce375fa>:18: DataConversionWarning: A column-vector y was passed when a 1d array was expected. Please change the shape of y to (n_samples,), for example using ravel().\n",
      "  model_class = model_var.fit(x_train,y_train)\n"
     ]
    },
    {
     "name": "stdout",
     "output_type": "stream",
     "text": [
      "Accuracy Score Random Forest Tree: 0.98592\n",
      "Confusion Matrix  Random Forest Tree: [[47954     0     0]\n",
      " [  581   842     0]\n",
      " [  123     0   500]]\n",
      "Balanced Accuracy Random Forest Tree: 0.7980919593906873\n",
      "Classification_Report Random Forest Tree:               precision    recall  f1-score   support\n",
      "\n",
      "         1.0       0.99      1.00      0.99     47954\n",
      "         2.0       1.00      0.59      0.74      1423\n",
      "         3.0       1.00      0.80      0.89       623\n",
      "\n",
      "    accuracy                           0.99     50000\n",
      "   macro avg       1.00      0.80      0.88     50000\n",
      "weighted avg       0.99      0.99      0.98     50000\n",
      "\n",
      "------------------------------------------------------\n"
     ]
    },
    {
     "data": {
      "image/png": "[encoded data removed]",
      "text/plain": [
       "<Figure size 432x288 with 2 Axes>"
      ]
     },
     "metadata": {
      "needs_background": "light"
     },
     "output_type": "display_data"
    }
   ],
   "source": [
    "smote_flag=True\n",
    "norm_flag=False\n",
    "scale_flag=True\n",
    "pca_flag=False\n",
    "random_state_class=RandomForestClassifier()\n",
    "check_standalone_prediction(smote_flag,norm_flag,scale_flag,pca_flag,x_train.copy(deep=False),y_train.copy(deep=False),x_test.copy(deep=False),y_test.copy(deep=False),random_state_class,\"Random Forest Tree\")"
   ]
  },
  {
   "cell_type": "code",
   "execution_count": 55,
   "metadata": {},
   "outputs": [
    {
     "name": "stderr",
     "output_type": "stream",
     "text": [
      "C:\\Users\\pmogh\\anaconda3\\lib\\site-packages\\sklearn\\neighbors\\_classification.py:179: DataConversionWarning: A column-vector y was passed when a 1d array was expected. Please change the shape of y to (n_samples,), for example using ravel().\n",
      "  return self._fit(X, y)\n"
     ]
    },
    {
     "name": "stdout",
     "output_type": "stream",
     "text": [
      "Accuracy Score Knn Model: 0.91064\n",
      "Confusion Matrix  Knn Model: [[45532  2422     0]\n",
      " [ 1423     0     0]\n",
      " [  123   500     0]]\n",
      "Balanced Accuracy Knn Model: 0.3164977547927875\n",
      "Classification_Report Knn Model:               precision    recall  f1-score   support\n",
      "\n",
      "         1.0       0.97      0.95      0.96     47954\n",
      "         2.0       0.00      0.00      0.00      1423\n",
      "         3.0       0.00      0.00      0.00       623\n",
      "\n",
      "    accuracy                           0.91     50000\n",
      "   macro avg       0.32      0.32      0.32     50000\n",
      "weighted avg       0.93      0.91      0.92     50000\n",
      "\n",
      "------------------------------------------------------\n"
     ]
    },
    {
     "name": "stderr",
     "output_type": "stream",
     "text": [
      "C:\\Users\\pmogh\\anaconda3\\lib\\site-packages\\sklearn\\metrics\\_classification.py:1245: UndefinedMetricWarning: Precision and F-score are ill-defined and being set to 0.0 in labels with no predicted samples. Use `zero_division` parameter to control this behavior.\n",
      "  _warn_prf(average, modifier, msg_start, len(result))\n",
      "C:\\Users\\pmogh\\anaconda3\\lib\\site-packages\\sklearn\\metrics\\_classification.py:1245: UndefinedMetricWarning: Precision and F-score are ill-defined and being set to 0.0 in labels with no predicted samples. Use `zero_division` parameter to control this behavior.\n",
      "  _warn_prf(average, modifier, msg_start, len(result))\n",
      "C:\\Users\\pmogh\\anaconda3\\lib\\site-packages\\sklearn\\metrics\\_classification.py:1245: UndefinedMetricWarning: Precision and F-score are ill-defined and being set to 0.0 in labels with no predicted samples. Use `zero_division` parameter to control this behavior.\n",
      "  _warn_prf(average, modifier, msg_start, len(result))\n"
     ]
    },
    {
     "data": {
      "image/png": "[encoded data removed]",
      "text/plain": [
       "<Figure size 432x288 with 2 Axes>"
      ]
     },
     "metadata": {
      "needs_background": "light"
     },
     "output_type": "display_data"
    }
   ],
   "source": [
    "smote_flag=True\n",
    "norm_flag=False\n",
    "scale_flag=False\n",
    "pca_flag=True\n",
    "knnclassifer = KNeighborsClassifier(n_neighbors=2)\n",
    "check_standalone_prediction(smote_flag,norm_flag,scale_flag,pca_flag,x_train.copy(deep=False),y_train.copy(deep=False),x_test.copy(deep=False),y_test.copy(deep=False),knnclassifer,\"Knn Model\")"
   ]
  },
  {
   "cell_type": "code",
   "execution_count": 56,
   "metadata": {},
   "outputs": [
    {
     "name": "stderr",
     "output_type": "stream",
     "text": [
      "C:\\Users\\pmogh\\anaconda3\\lib\\site-packages\\sklearn\\utils\\validation.py:63: DataConversionWarning: A column-vector y was passed when a 1d array was expected. Please change the shape of y to (n_samples, ), for example using ravel().\n",
      "  return f(*args, **kwargs)\n"
     ]
    },
    {
     "name": "stdout",
     "output_type": "stream",
     "text": [
      "Accuracy Score SVM Model Tree: 0.98238\n",
      "Confusion Matrix  SVM Model Tree: [[47954     0     0]\n",
      " [  758   665     0]\n",
      " [  123     0   500]]\n",
      "Balanced Accuracy SVM Model Tree: 0.7566302587582209\n",
      "Classification_Report SVM Model Tree:               precision    recall  f1-score   support\n",
      "\n",
      "         1.0       0.98      1.00      0.99     47954\n",
      "         2.0       1.00      0.47      0.64      1423\n",
      "         3.0       1.00      0.80      0.89       623\n",
      "\n",
      "    accuracy                           0.98     50000\n",
      "   macro avg       0.99      0.76      0.84     50000\n",
      "weighted avg       0.98      0.98      0.98     50000\n",
      "\n",
      "------------------------------------------------------\n"
     ]
    },
    {
     "data": {
      "image/png": "[encoded data removed]",
      "text/plain": [
       "<Figure size 432x288 with 2 Axes>"
      ]
     },
     "metadata": {
      "needs_background": "light"
     },
     "output_type": "display_data"
    }
   ],
   "source": [
    "smote_flag=True\n",
    "norm_flag=False\n",
    "scale_flag=True\n",
    "pca_flag=False\n",
    "svm_class=svm.SVC()\n",
    "check_standalone_prediction(smote_flag,norm_flag,scale_flag,pca_flag,x_train.copy(deep=False),y_train.copy(deep=False),x_test.copy(deep=False),y_test.copy(deep=False),svm_class,\"SVM Model Tree\")"
   ]
  },
  {
   "cell_type": "code",
   "execution_count": 45,
   "metadata": {},
   "outputs": [],
   "source": [
    "def hyper_parameter(pipe,param,x_train,y_train,x_test,y_test,model_name):\n",
    "    rsv=GridSearchCV(pipe,param,cv=10,n_jobs=-1)\n",
    "    rsv.fit(x_train, y_train)\n",
    "    score = rsv.score(x_test, y_test)\n",
    "    y_hat=rsv.predict(x_test)\n",
    "    print(\"Score:\",score)\n",
    "    print(\"Best Param\",rsv.best_params_)\n",
    "    print(\"Best estimator\",rsv.best_estimator_)\n",
    "    print(f\"Accuracy Score {model_name}: {accuracy_score(y_test,y_hat)}\")\n",
    "    print(f\"Confusion Matrix  {model_name}: {confusion_matrix(y_test,y_hat)}\")\n",
    "    print(f\"Balanced Accuracy {model_name}: {balanced_accuracy_score(y_test,y_hat)}\") \n",
    "    print(f\"Classification_Report {model_name}: {classification_report(y_test,y_hat)}\") \n",
    "\n",
    "    print(f\"------------------------------------------------------\") \n",
    "    plot_confusion_matrix(rsv,x_test,y_test)"
   ]
  },
  {
   "cell_type": "code",
   "execution_count": 46,
   "metadata": {},
   "outputs": [],
   "source": [
    "def hyper_parameter_random(pipe,param,x_train,y_train,x_test,y_test,model_name):\n",
    "    rsv=RandomizedSearchCV(pipe,param,cv=10,n_jobs=-1)\n",
    "    rsv.fit(x_train, y_train)\n",
    "    score = rsv.score(x_test, y_test)\n",
    "    y_hat=rsv.predict(x_test)\n",
    "    print(\"Score:\",score)\n",
    "    print(\"Best Param\",rsv.best_params_)\n",
    "    print(\"Best estimator\",rsv.best_estimator_)\n",
    "    print(f\"Accuracy Score {model_name}: {accuracy_score(y_test,y_hat)}\")\n",
    "    print(f\"Confusion Matrix  {model_name}: {confusion_matrix(y_test,y_hat)}\")\n",
    "    print(f\"Balanced Accuracy {model_name}: {balanced_accuracy_score(y_test,y_hat)}\") \n",
    "    print(f\"Classification_Report {model_name}: {classification_report(y_test,y_hat)}\") \n",
    "\n",
    "    print(f\"------------------------------------------------------\") \n",
    "    plot_confusion_matrix(rsv,x_test,y_test)"
   ]
  },
  {
   "cell_type": "code",
   "execution_count": 47,
   "metadata": {},
   "outputs": [
    {
     "name": "stdout",
     "output_type": "stream",
     "text": [
      "Score: 0.8794\n",
      "Best Param {'clf__criterion': 'gini', 'clf__max_depth': 10}\n",
      "Best estimator Pipeline(steps=[('transformer', StandardScaler()),\n",
      "                ('clf', DecisionTreeClassifier(max_depth=10))])\n",
      "Accuracy Score Decision Tree: 0.8794\n",
      "Confusion Matrix  Decision Tree: [[43270  4560   124]\n",
      " [ 1223   200     0]\n",
      " [  123     0   500]]\n",
      "Balanced Accuracy Decision Tree: 0.6151464718781708\n",
      "Classification_Report Decision Tree:               precision    recall  f1-score   support\n",
      "\n",
      "         1.0       0.97      0.90      0.93     47954\n",
      "         2.0       0.04      0.14      0.06      1423\n",
      "         3.0       0.80      0.80      0.80       623\n",
      "\n",
      "    accuracy                           0.88     50000\n",
      "   macro avg       0.60      0.62      0.60     50000\n",
      "weighted avg       0.94      0.88      0.91     50000\n",
      "\n",
      "------------------------------------------------------\n"
     ]
    },
    {
     "data": {
      "image/png": "[encoded data removed]",
      "text/plain": [
       "<Figure size 432x288 with 2 Axes>"
      ]
     },
     "metadata": {
      "needs_background": "light"
     },
     "output_type": "display_data"
    }
   ],
   "source": [
    "## Create Copy Of The Test Data\n",
    "x_train_copy=x_train.copy(deep=False)\n",
    "y_train_copy=y_train.copy(deep=False)\n",
    "x_test_copy=x_test.copy(deep=False)\n",
    "y_test_copy=y_test.copy(deep=False)\n",
    "## Apply Smote On The Data\n",
    "sm=SMOTE(random_state=42)\n",
    "x_train_copy, y_train_copy = sm.fit_resample(x_train_copy, y_train_copy)\n",
    "#x_test_copy, y_test_copy = sm.fit_resample(x_test_copy, y_test_copy)\n",
    "\n",
    "\n",
    "params = {\"clf__criterion\": ['gini', 'entropy'],\"clf__max_depth\":[10,30,50,100,None]}\n",
    "\n",
    "pipe = Pipeline(steps=[('transformer',StandardScaler()),(\"clf\", tree.DecisionTreeClassifier())])\n",
    "#pca 86\n",
    "#without pca 99\n",
    "hyper_parameter(pipe,params,x_train_copy,y_train_copy,x_test_copy,y_test_copy,\"Decision Tree\")\n",
    "del x_train_copy\n",
    "del y_train_copy\n",
    "del x_test_copy\n",
    "del y_test_copy\n",
    "\n",
    "del params\n",
    "del pipe"
   ]
  },
  {
   "cell_type": "code",
   "execution_count": 60,
   "metadata": {},
   "outputs": [
    {
     "name": "stderr",
     "output_type": "stream",
     "text": [
      "C:\\Users\\pmogh\\anaconda3\\lib\\site-packages\\sklearn\\pipeline.py:346: DataConversionWarning: A column-vector y was passed when a 1d array was expected. Please change the shape of y to (n_samples,), for example using ravel().\n",
      "  self._final_estimator.fit(Xt, y, **fit_params_last_step)\n"
     ]
    },
    {
     "name": "stdout",
     "output_type": "stream",
     "text": [
      "Score: 0.92158\n",
      "Best Param {'clf__n_estimators': 10, 'clf__max_features': 10, 'clf__max_depth': 10, 'clf__criterion': 'entropy', 'clf__bootstrap': False}\n",
      "Best estimator Pipeline(steps=[('transformer', StandardScaler()),\n",
      "                ('clf',\n",
      "                 RandomForestClassifier(bootstrap=False, criterion='entropy',\n",
      "                                        max_depth=10, max_features=10,\n",
      "                                        n_estimators=10))])\n",
      "Accuracy Score Random Forest: 0.92158\n",
      "Confusion Matrix  Random Forest: [[44737  3217     0]\n",
      " [  581   842     0]\n",
      " [  123     0   500]]\n",
      "Balanced Accuracy Random Forest: 0.7757302516429846\n",
      "Classification_Report Random Forest:               precision    recall  f1-score   support\n",
      "\n",
      "         1.0       0.98      0.93      0.96     47954\n",
      "         2.0       0.21      0.59      0.31      1423\n",
      "         3.0       1.00      0.80      0.89       623\n",
      "\n",
      "    accuracy                           0.92     50000\n",
      "   macro avg       0.73      0.78      0.72     50000\n",
      "weighted avg       0.96      0.92      0.94     50000\n",
      "\n",
      "------------------------------------------------------\n"
     ]
    },
    {
     "data": {
      "image/png": "[encoded data removed]",
      "text/plain": [
       "<Figure size 432x288 with 2 Axes>"
      ]
     },
     "metadata": {
      "needs_background": "light"
     },
     "output_type": "display_data"
    }
   ],
   "source": [
    "## Create Copy Of The Test Data\n",
    "x_train_copy=x_train.copy(deep=False)\n",
    "y_train_copy=y_train.copy(deep=False)\n",
    "x_test_copy=x_test.copy(deep=False)\n",
    "y_test_copy=y_test.copy(deep=False)\n",
    "## Apply Smote On The Data\n",
    "sm=SMOTE(random_state=42)\n",
    "x_train_copy, y_train_copy = sm.fit_resample(x_train_copy, y_train_copy)\n",
    "#x_test_copy, y_test_copy = sm.fit_resample(x_test_copy, y_test_copy)\n",
    "\n",
    "params = {\"clf__n_estimators\": [10,30,50,100],\"clf__max_depth\": [10,50,None],\"clf__max_features\": [5, 10],\"clf__bootstrap\":[True,False],\"clf__criterion\":['gini','entropy']}\n",
    "               \n",
    "pipe = Pipeline(steps=[(\"transformer\", StandardScaler()),(\"clf\", RandomForestClassifier())])\n",
    "\n",
    "hyper_parameter_random(pipe,params,x_train_copy,y_train_copy,x_test_copy,y_test_copy,\"Random Forest\")\n",
    "del x_train_copy\n",
    "del y_train_copy\n",
    "del x_test_copy\n",
    "del y_test_copy\n",
    "\n",
    "del params\n",
    "del pipe"
   ]
  }
 ],
 "metadata": {
  "interpreter": {
   "hash": "29588637f152574552d8faefd8b8a603d6c4aa3e45c8da827eb2dd5eb427d5df"
  },
  "kernelspec": {
   "display_name": "Python 3.8.5 64-bit ('base': conda)",
   "name": "python3"
  },
  "language_info": {
   "codemirror_mode": {
    "name": "ipython",
    "version": 3
   },
   "file_extension": ".py",
   "mimetype": "text/x-python",
   "name": "python",
   "nbconvert_exporter": "python",
   "pygments_lexer": "ipython3",
   "version": "3.8.8"
  },
  "orig_nbformat": 4
 },
 "nbformat": 4,
 "nbformat_minor": 2
}
