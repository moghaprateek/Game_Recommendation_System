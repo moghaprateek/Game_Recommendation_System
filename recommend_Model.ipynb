{
 "cells": [
  {
   "cell_type": "markdown",
   "metadata": {},
   "source": [
    "# Recommendation Techniques and Results"
   ]
  },
  {
   "cell_type": "markdown",
   "metadata": {},
   "source": [
    "In this file, using merged data of game and player we develop the working recommendation system"
   ]
  },
  {
   "cell_type": "code",
   "execution_count": 48,
   "metadata": {},
   "outputs": [],
   "source": [
    "import pandas as pd\n",
    "import numpy as np\n",
    "import matplotlib.pyplot as plt\n",
    "%matplotlib inline\n",
    "\n",
    "from scipy import sparse\n",
    "\n",
    "from lightfm import LightFM\n",
    "from sklearn.metrics.pairwise import cosine_similarity\n",
    "from lightfm.evaluation import precision_at_k\n",
    "from lightfm.evaluation import auc_score\n",
    "\n",
    "from scipy.spatial import distance\n",
    "\n",
    "from sklearn.manifold import TSNE\n",
    "from gensim.models.keyedvectors import Word2VecKeyedVectors\n",
    "import textwrap\n",
    "\n",
    "from support_function import *\n",
    "\n",
    "#Import Warnings\n",
    "import warnings\n",
    "warnings.filterwarnings(\"ignore\")"
   ]
  },
  {
   "cell_type": "markdown",
   "metadata": {},
   "source": [
    "Load the supported function from support_function.py file in this notebook."
   ]
  },
  {
   "cell_type": "code",
   "execution_count": 49,
   "metadata": {},
   "outputs": [],
   "source": [
    "%run support_function.py"
   ]
  },
  {
   "cell_type": "markdown",
   "metadata": {},
   "source": [
    "## Get the Data For recommendation from cvs file."
   ]
  },
  {
   "cell_type": "markdown",
   "metadata": {},
   "source": [
    "We load the csv file which contain the userId and game id in it."
   ]
  },
  {
   "cell_type": "code",
   "execution_count": 50,
   "metadata": {
    "scrolled": true
   },
   "outputs": [
    {
     "data": {
      "text/html": [
       "<div>\n",
       "<style scoped>\n",
       "    .dataframe tbody tr th:only-of-type {\n",
       "        vertical-align: middle;\n",
       "    }\n",
       "\n",
       "    .dataframe tbody tr th {\n",
       "        vertical-align: top;\n",
       "    }\n",
       "\n",
       "    .dataframe thead th {\n",
       "        text-align: right;\n",
       "    }\n",
       "</style>\n",
       "<table border=\"1\" class=\"dataframe\">\n",
       "  <thead>\n",
       "    <tr style=\"text-align: right;\">\n",
       "      <th></th>\n",
       "      <th>uid</th>\n",
       "      <th>id</th>\n",
       "      <th>owned</th>\n",
       "    </tr>\n",
       "  </thead>\n",
       "  <tbody>\n",
       "    <tr>\n",
       "      <th>0</th>\n",
       "      <td>0</td>\n",
       "      <td>10</td>\n",
       "      <td>1.0</td>\n",
       "    </tr>\n",
       "    <tr>\n",
       "      <th>1</th>\n",
       "      <td>1</td>\n",
       "      <td>10</td>\n",
       "      <td>1.0</td>\n",
       "    </tr>\n",
       "    <tr>\n",
       "      <th>2</th>\n",
       "      <td>3</td>\n",
       "      <td>10</td>\n",
       "      <td>1.0</td>\n",
       "    </tr>\n",
       "    <tr>\n",
       "      <th>3</th>\n",
       "      <td>4</td>\n",
       "      <td>10</td>\n",
       "      <td>1.0</td>\n",
       "    </tr>\n",
       "    <tr>\n",
       "      <th>4</th>\n",
       "      <td>10</td>\n",
       "      <td>10</td>\n",
       "      <td>1.0</td>\n",
       "    </tr>\n",
       "  </tbody>\n",
       "</table>\n",
       "</div>"
      ],
      "text/plain": [
       "   uid  id  owned\n",
       "0    0  10    1.0\n",
       "1    1  10    1.0\n",
       "2    3  10    1.0\n",
       "3    4  10    1.0\n",
       "4   10  10    1.0"
      ]
     },
     "execution_count": 50,
     "metadata": {},
     "output_type": "execute_result"
    }
   ],
   "source": [
    "user_recom_data = pd.read_csv('recdata.csv', index_col=0)\n",
    "user_recom_data = user_recom_data.rename(columns = {'variable':'id', 'value': 'owned'})\n",
    "user_recom_data.head()"
   ]
  },
  {
   "cell_type": "markdown",
   "metadata": {},
   "source": [
    "We load the games data with names and all other information like geners"
   ]
  },
  {
   "cell_type": "code",
   "execution_count": 51,
   "metadata": {},
   "outputs": [
    {
     "data": {
      "text/html": [
       "<div>\n",
       "<style scoped>\n",
       "    .dataframe tbody tr th:only-of-type {\n",
       "        vertical-align: middle;\n",
       "    }\n",
       "\n",
       "    .dataframe tbody tr th {\n",
       "        vertical-align: top;\n",
       "    }\n",
       "\n",
       "    .dataframe thead th {\n",
       "        text-align: right;\n",
       "    }\n",
       "</style>\n",
       "<table border=\"1\" class=\"dataframe\">\n",
       "  <thead>\n",
       "    <tr style=\"text-align: right;\">\n",
       "      <th></th>\n",
       "      <th>publisher</th>\n",
       "      <th>genres</th>\n",
       "      <th>app_name</th>\n",
       "      <th>title</th>\n",
       "      <th>url</th>\n",
       "      <th>release_date</th>\n",
       "      <th>tags</th>\n",
       "      <th>discount_price</th>\n",
       "      <th>reviews_url</th>\n",
       "      <th>specs</th>\n",
       "      <th>price</th>\n",
       "      <th>early_access</th>\n",
       "      <th>id</th>\n",
       "      <th>developer</th>\n",
       "      <th>sentiment</th>\n",
       "      <th>metascore</th>\n",
       "    </tr>\n",
       "  </thead>\n",
       "  <tbody>\n",
       "    <tr>\n",
       "      <th>0</th>\n",
       "      <td>Kotoshiro</td>\n",
       "      <td>['Action', 'Casual', 'Indie', 'Simulation', 'S...</td>\n",
       "      <td>Lost Summoner Kitty</td>\n",
       "      <td>Lost Summoner Kitty</td>\n",
       "      <td>http://store.steampowered.com/app/761140/Lost_...</td>\n",
       "      <td>2018-01-04</td>\n",
       "      <td>['Strategy', 'Action', 'Indie', 'Casual', 'Sim...</td>\n",
       "      <td>4.49</td>\n",
       "      <td>http://steamcommunity.com/app/761140/reviews/?...</td>\n",
       "      <td>['Single-player']</td>\n",
       "      <td>4.99</td>\n",
       "      <td>False</td>\n",
       "      <td>761140.0</td>\n",
       "      <td>Kotoshiro</td>\n",
       "      <td>NaN</td>\n",
       "      <td>NaN</td>\n",
       "    </tr>\n",
       "    <tr>\n",
       "      <th>1</th>\n",
       "      <td>Making Fun, Inc.</td>\n",
       "      <td>['Free to Play', 'Indie', 'RPG', 'Strategy']</td>\n",
       "      <td>Ironbound</td>\n",
       "      <td>Ironbound</td>\n",
       "      <td>http://store.steampowered.com/app/643980/Ironb...</td>\n",
       "      <td>2018-01-04</td>\n",
       "      <td>['Free to Play', 'Strategy', 'Indie', 'RPG', '...</td>\n",
       "      <td>NaN</td>\n",
       "      <td>http://steamcommunity.com/app/643980/reviews/?...</td>\n",
       "      <td>['Single-player', 'Multi-player', 'Online Mult...</td>\n",
       "      <td>Free To Play</td>\n",
       "      <td>False</td>\n",
       "      <td>643980.0</td>\n",
       "      <td>Secret Level SRL</td>\n",
       "      <td>Mostly Positive</td>\n",
       "      <td>NaN</td>\n",
       "    </tr>\n",
       "    <tr>\n",
       "      <th>2</th>\n",
       "      <td>Poolians.com</td>\n",
       "      <td>['Casual', 'Free to Play', 'Indie', 'Simulatio...</td>\n",
       "      <td>Real Pool 3D - Poolians</td>\n",
       "      <td>Real Pool 3D - Poolians</td>\n",
       "      <td>http://store.steampowered.com/app/670290/Real_...</td>\n",
       "      <td>2017-07-24</td>\n",
       "      <td>['Free to Play', 'Simulation', 'Sports', 'Casu...</td>\n",
       "      <td>NaN</td>\n",
       "      <td>http://steamcommunity.com/app/670290/reviews/?...</td>\n",
       "      <td>['Single-player', 'Multi-player', 'Online Mult...</td>\n",
       "      <td>Free to Play</td>\n",
       "      <td>False</td>\n",
       "      <td>670290.0</td>\n",
       "      <td>Poolians.com</td>\n",
       "      <td>Mostly Positive</td>\n",
       "      <td>NaN</td>\n",
       "    </tr>\n",
       "    <tr>\n",
       "      <th>3</th>\n",
       "      <td>彼岸领域</td>\n",
       "      <td>['Action', 'Adventure', 'Casual']</td>\n",
       "      <td>弹炸人2222</td>\n",
       "      <td>弹炸人2222</td>\n",
       "      <td>http://store.steampowered.com/app/767400/2222/</td>\n",
       "      <td>2017-12-07</td>\n",
       "      <td>['Action', 'Adventure', 'Casual']</td>\n",
       "      <td>0.83</td>\n",
       "      <td>http://steamcommunity.com/app/767400/reviews/?...</td>\n",
       "      <td>['Single-player']</td>\n",
       "      <td>0.99</td>\n",
       "      <td>False</td>\n",
       "      <td>767400.0</td>\n",
       "      <td>彼岸领域</td>\n",
       "      <td>NaN</td>\n",
       "      <td>NaN</td>\n",
       "    </tr>\n",
       "    <tr>\n",
       "      <th>4</th>\n",
       "      <td>NaN</td>\n",
       "      <td>NaN</td>\n",
       "      <td>Log Challenge</td>\n",
       "      <td>NaN</td>\n",
       "      <td>http://store.steampowered.com/app/773570/Log_C...</td>\n",
       "      <td>NaN</td>\n",
       "      <td>['Action', 'Indie', 'Casual', 'Sports']</td>\n",
       "      <td>1.79</td>\n",
       "      <td>http://steamcommunity.com/app/773570/reviews/?...</td>\n",
       "      <td>['Single-player', 'Full controller support', '...</td>\n",
       "      <td>2.99</td>\n",
       "      <td>False</td>\n",
       "      <td>773570.0</td>\n",
       "      <td>NaN</td>\n",
       "      <td>NaN</td>\n",
       "      <td>NaN</td>\n",
       "    </tr>\n",
       "  </tbody>\n",
       "</table>\n",
       "</div>"
      ],
      "text/plain": [
       "          publisher                                             genres  \\\n",
       "0         Kotoshiro  ['Action', 'Casual', 'Indie', 'Simulation', 'S...   \n",
       "1  Making Fun, Inc.       ['Free to Play', 'Indie', 'RPG', 'Strategy']   \n",
       "2      Poolians.com  ['Casual', 'Free to Play', 'Indie', 'Simulatio...   \n",
       "3              彼岸领域                  ['Action', 'Adventure', 'Casual']   \n",
       "4               NaN                                                NaN   \n",
       "\n",
       "                  app_name                    title  \\\n",
       "0      Lost Summoner Kitty      Lost Summoner Kitty   \n",
       "1                Ironbound                Ironbound   \n",
       "2  Real Pool 3D - Poolians  Real Pool 3D - Poolians   \n",
       "3                  弹炸人2222                  弹炸人2222   \n",
       "4            Log Challenge                      NaN   \n",
       "\n",
       "                                                 url release_date  \\\n",
       "0  http://store.steampowered.com/app/761140/Lost_...   2018-01-04   \n",
       "1  http://store.steampowered.com/app/643980/Ironb...   2018-01-04   \n",
       "2  http://store.steampowered.com/app/670290/Real_...   2017-07-24   \n",
       "3     http://store.steampowered.com/app/767400/2222/   2017-12-07   \n",
       "4  http://store.steampowered.com/app/773570/Log_C...          NaN   \n",
       "\n",
       "                                                tags  discount_price  \\\n",
       "0  ['Strategy', 'Action', 'Indie', 'Casual', 'Sim...            4.49   \n",
       "1  ['Free to Play', 'Strategy', 'Indie', 'RPG', '...             NaN   \n",
       "2  ['Free to Play', 'Simulation', 'Sports', 'Casu...             NaN   \n",
       "3                  ['Action', 'Adventure', 'Casual']            0.83   \n",
       "4            ['Action', 'Indie', 'Casual', 'Sports']            1.79   \n",
       "\n",
       "                                         reviews_url  \\\n",
       "0  http://steamcommunity.com/app/761140/reviews/?...   \n",
       "1  http://steamcommunity.com/app/643980/reviews/?...   \n",
       "2  http://steamcommunity.com/app/670290/reviews/?...   \n",
       "3  http://steamcommunity.com/app/767400/reviews/?...   \n",
       "4  http://steamcommunity.com/app/773570/reviews/?...   \n",
       "\n",
       "                                               specs         price  \\\n",
       "0                                  ['Single-player']          4.99   \n",
       "1  ['Single-player', 'Multi-player', 'Online Mult...  Free To Play   \n",
       "2  ['Single-player', 'Multi-player', 'Online Mult...  Free to Play   \n",
       "3                                  ['Single-player']          0.99   \n",
       "4  ['Single-player', 'Full controller support', '...          2.99   \n",
       "\n",
       "   early_access        id         developer        sentiment  metascore  \n",
       "0         False  761140.0         Kotoshiro              NaN        NaN  \n",
       "1         False  643980.0  Secret Level SRL  Mostly Positive        NaN  \n",
       "2         False  670290.0      Poolians.com  Mostly Positive        NaN  \n",
       "3         False  767400.0              彼岸领域              NaN        NaN  \n",
       "4         False  773570.0               NaN              NaN        NaN  "
      ]
     },
     "execution_count": 51,
     "metadata": {},
     "output_type": "execute_result"
    }
   ],
   "source": [
    "# Load games data\n",
    "game_recom_data = pd.read_csv('gamesdata.csv', index_col = 0)\n",
    "game_recom_data.head()"
   ]
  },
  {
   "cell_type": "markdown",
   "metadata": {},
   "source": [
    "## Additional Preprocessing"
   ]
  },
  {
   "cell_type": "markdown",
   "metadata": {},
   "source": [
    "### Create interaction matrix"
   ]
  },
  {
   "cell_type": "markdown",
   "metadata": {},
   "source": [
    "We will create an interactions matrix using the user-item data. This is done using the `create_interaction_matrix` function, which can be found in `support_function.py`."
   ]
  },
  {
   "cell_type": "code",
   "execution_count": 52,
   "metadata": {
    "scrolled": true
   },
   "outputs": [
    {
     "data": {
      "text/plain": [
       "(8769, 8171)"
      ]
     },
     "execution_count": 52,
     "metadata": {},
     "output_type": "execute_result"
    }
   ],
   "source": [
    "inter_mat = build_matrix(data_frame= user_recom_data,\n",
    "                                         u_column = 'uid',\n",
    "                                         i_column = 'id',\n",
    "                                         r_column = 'owned')\n",
    "inter_mat.shape"
   ]
  },
  {
   "cell_type": "markdown",
   "metadata": {},
   "source": [
    "From the shape, we note that we have 8769 unique users and 8171 different games represented."
   ]
  },
  {
   "cell_type": "code",
   "execution_count": 53,
   "metadata": {
    "scrolled": false
   },
   "outputs": [
    {
     "data": {
      "text/html": [
       "<div>\n",
       "<style scoped>\n",
       "    .dataframe tbody tr th:only-of-type {\n",
       "        vertical-align: middle;\n",
       "    }\n",
       "\n",
       "    .dataframe tbody tr th {\n",
       "        vertical-align: top;\n",
       "    }\n",
       "\n",
       "    .dataframe thead th {\n",
       "        text-align: right;\n",
       "    }\n",
       "</style>\n",
       "<table border=\"1\" class=\"dataframe\">\n",
       "  <thead>\n",
       "    <tr style=\"text-align: right;\">\n",
       "      <th>id</th>\n",
       "      <th>10</th>\n",
       "      <th>20</th>\n",
       "      <th>30</th>\n",
       "      <th>40</th>\n",
       "      <th>50</th>\n",
       "      <th>60</th>\n",
       "      <th>70</th>\n",
       "      <th>80</th>\n",
       "      <th>130</th>\n",
       "      <th>220</th>\n",
       "      <th>...</th>\n",
       "      <th>525190</th>\n",
       "      <th>526460</th>\n",
       "      <th>526790</th>\n",
       "      <th>527340</th>\n",
       "      <th>527440</th>\n",
       "      <th>527510</th>\n",
       "      <th>527520</th>\n",
       "      <th>527810</th>\n",
       "      <th>527900</th>\n",
       "      <th>530720</th>\n",
       "    </tr>\n",
       "    <tr>\n",
       "      <th>uid</th>\n",
       "      <th></th>\n",
       "      <th></th>\n",
       "      <th></th>\n",
       "      <th></th>\n",
       "      <th></th>\n",
       "      <th></th>\n",
       "      <th></th>\n",
       "      <th></th>\n",
       "      <th></th>\n",
       "      <th></th>\n",
       "      <th></th>\n",
       "      <th></th>\n",
       "      <th></th>\n",
       "      <th></th>\n",
       "      <th></th>\n",
       "      <th></th>\n",
       "      <th></th>\n",
       "      <th></th>\n",
       "      <th></th>\n",
       "      <th></th>\n",
       "      <th></th>\n",
       "    </tr>\n",
       "  </thead>\n",
       "  <tbody>\n",
       "    <tr>\n",
       "      <th>0</th>\n",
       "      <td>1.0</td>\n",
       "      <td>1.0</td>\n",
       "      <td>1.0</td>\n",
       "      <td>1.0</td>\n",
       "      <td>1.0</td>\n",
       "      <td>1.0</td>\n",
       "      <td>1.0</td>\n",
       "      <td>0.0</td>\n",
       "      <td>1.0</td>\n",
       "      <td>1.0</td>\n",
       "      <td>...</td>\n",
       "      <td>0.0</td>\n",
       "      <td>0.0</td>\n",
       "      <td>0.0</td>\n",
       "      <td>0.0</td>\n",
       "      <td>0.0</td>\n",
       "      <td>0.0</td>\n",
       "      <td>0.0</td>\n",
       "      <td>0.0</td>\n",
       "      <td>0.0</td>\n",
       "      <td>0.0</td>\n",
       "    </tr>\n",
       "    <tr>\n",
       "      <th>1</th>\n",
       "      <td>1.0</td>\n",
       "      <td>1.0</td>\n",
       "      <td>1.0</td>\n",
       "      <td>1.0</td>\n",
       "      <td>1.0</td>\n",
       "      <td>1.0</td>\n",
       "      <td>1.0</td>\n",
       "      <td>1.0</td>\n",
       "      <td>1.0</td>\n",
       "      <td>1.0</td>\n",
       "      <td>...</td>\n",
       "      <td>0.0</td>\n",
       "      <td>0.0</td>\n",
       "      <td>0.0</td>\n",
       "      <td>0.0</td>\n",
       "      <td>0.0</td>\n",
       "      <td>0.0</td>\n",
       "      <td>0.0</td>\n",
       "      <td>0.0</td>\n",
       "      <td>0.0</td>\n",
       "      <td>0.0</td>\n",
       "    </tr>\n",
       "    <tr>\n",
       "      <th>2</th>\n",
       "      <td>0.0</td>\n",
       "      <td>0.0</td>\n",
       "      <td>0.0</td>\n",
       "      <td>0.0</td>\n",
       "      <td>0.0</td>\n",
       "      <td>0.0</td>\n",
       "      <td>0.0</td>\n",
       "      <td>0.0</td>\n",
       "      <td>0.0</td>\n",
       "      <td>1.0</td>\n",
       "      <td>...</td>\n",
       "      <td>0.0</td>\n",
       "      <td>0.0</td>\n",
       "      <td>0.0</td>\n",
       "      <td>0.0</td>\n",
       "      <td>0.0</td>\n",
       "      <td>0.0</td>\n",
       "      <td>0.0</td>\n",
       "      <td>0.0</td>\n",
       "      <td>0.0</td>\n",
       "      <td>0.0</td>\n",
       "    </tr>\n",
       "    <tr>\n",
       "      <th>3</th>\n",
       "      <td>1.0</td>\n",
       "      <td>1.0</td>\n",
       "      <td>1.0</td>\n",
       "      <td>1.0</td>\n",
       "      <td>1.0</td>\n",
       "      <td>1.0</td>\n",
       "      <td>1.0</td>\n",
       "      <td>1.0</td>\n",
       "      <td>1.0</td>\n",
       "      <td>1.0</td>\n",
       "      <td>...</td>\n",
       "      <td>0.0</td>\n",
       "      <td>0.0</td>\n",
       "      <td>0.0</td>\n",
       "      <td>0.0</td>\n",
       "      <td>0.0</td>\n",
       "      <td>0.0</td>\n",
       "      <td>0.0</td>\n",
       "      <td>0.0</td>\n",
       "      <td>0.0</td>\n",
       "      <td>0.0</td>\n",
       "    </tr>\n",
       "    <tr>\n",
       "      <th>4</th>\n",
       "      <td>1.0</td>\n",
       "      <td>1.0</td>\n",
       "      <td>1.0</td>\n",
       "      <td>1.0</td>\n",
       "      <td>1.0</td>\n",
       "      <td>1.0</td>\n",
       "      <td>1.0</td>\n",
       "      <td>1.0</td>\n",
       "      <td>1.0</td>\n",
       "      <td>1.0</td>\n",
       "      <td>...</td>\n",
       "      <td>0.0</td>\n",
       "      <td>0.0</td>\n",
       "      <td>0.0</td>\n",
       "      <td>0.0</td>\n",
       "      <td>0.0</td>\n",
       "      <td>0.0</td>\n",
       "      <td>0.0</td>\n",
       "      <td>0.0</td>\n",
       "      <td>0.0</td>\n",
       "      <td>0.0</td>\n",
       "    </tr>\n",
       "    <tr>\n",
       "      <th>5</th>\n",
       "      <td>0.0</td>\n",
       "      <td>0.0</td>\n",
       "      <td>0.0</td>\n",
       "      <td>0.0</td>\n",
       "      <td>1.0</td>\n",
       "      <td>0.0</td>\n",
       "      <td>0.0</td>\n",
       "      <td>0.0</td>\n",
       "      <td>0.0</td>\n",
       "      <td>1.0</td>\n",
       "      <td>...</td>\n",
       "      <td>0.0</td>\n",
       "      <td>0.0</td>\n",
       "      <td>0.0</td>\n",
       "      <td>0.0</td>\n",
       "      <td>0.0</td>\n",
       "      <td>0.0</td>\n",
       "      <td>0.0</td>\n",
       "      <td>0.0</td>\n",
       "      <td>0.0</td>\n",
       "      <td>0.0</td>\n",
       "    </tr>\n",
       "    <tr>\n",
       "      <th>6</th>\n",
       "      <td>0.0</td>\n",
       "      <td>1.0</td>\n",
       "      <td>0.0</td>\n",
       "      <td>0.0</td>\n",
       "      <td>1.0</td>\n",
       "      <td>0.0</td>\n",
       "      <td>1.0</td>\n",
       "      <td>0.0</td>\n",
       "      <td>1.0</td>\n",
       "      <td>1.0</td>\n",
       "      <td>...</td>\n",
       "      <td>0.0</td>\n",
       "      <td>0.0</td>\n",
       "      <td>0.0</td>\n",
       "      <td>0.0</td>\n",
       "      <td>0.0</td>\n",
       "      <td>0.0</td>\n",
       "      <td>0.0</td>\n",
       "      <td>0.0</td>\n",
       "      <td>0.0</td>\n",
       "      <td>0.0</td>\n",
       "    </tr>\n",
       "    <tr>\n",
       "      <th>7</th>\n",
       "      <td>0.0</td>\n",
       "      <td>0.0</td>\n",
       "      <td>0.0</td>\n",
       "      <td>0.0</td>\n",
       "      <td>0.0</td>\n",
       "      <td>0.0</td>\n",
       "      <td>1.0</td>\n",
       "      <td>0.0</td>\n",
       "      <td>0.0</td>\n",
       "      <td>1.0</td>\n",
       "      <td>...</td>\n",
       "      <td>0.0</td>\n",
       "      <td>0.0</td>\n",
       "      <td>0.0</td>\n",
       "      <td>0.0</td>\n",
       "      <td>0.0</td>\n",
       "      <td>0.0</td>\n",
       "      <td>0.0</td>\n",
       "      <td>0.0</td>\n",
       "      <td>0.0</td>\n",
       "      <td>0.0</td>\n",
       "    </tr>\n",
       "    <tr>\n",
       "      <th>8</th>\n",
       "      <td>0.0</td>\n",
       "      <td>1.0</td>\n",
       "      <td>0.0</td>\n",
       "      <td>0.0</td>\n",
       "      <td>1.0</td>\n",
       "      <td>0.0</td>\n",
       "      <td>1.0</td>\n",
       "      <td>0.0</td>\n",
       "      <td>1.0</td>\n",
       "      <td>1.0</td>\n",
       "      <td>...</td>\n",
       "      <td>0.0</td>\n",
       "      <td>0.0</td>\n",
       "      <td>0.0</td>\n",
       "      <td>0.0</td>\n",
       "      <td>0.0</td>\n",
       "      <td>0.0</td>\n",
       "      <td>0.0</td>\n",
       "      <td>0.0</td>\n",
       "      <td>0.0</td>\n",
       "      <td>0.0</td>\n",
       "    </tr>\n",
       "    <tr>\n",
       "      <th>10</th>\n",
       "      <td>1.0</td>\n",
       "      <td>1.0</td>\n",
       "      <td>1.0</td>\n",
       "      <td>1.0</td>\n",
       "      <td>1.0</td>\n",
       "      <td>1.0</td>\n",
       "      <td>1.0</td>\n",
       "      <td>1.0</td>\n",
       "      <td>1.0</td>\n",
       "      <td>1.0</td>\n",
       "      <td>...</td>\n",
       "      <td>0.0</td>\n",
       "      <td>0.0</td>\n",
       "      <td>0.0</td>\n",
       "      <td>0.0</td>\n",
       "      <td>0.0</td>\n",
       "      <td>0.0</td>\n",
       "      <td>0.0</td>\n",
       "      <td>0.0</td>\n",
       "      <td>0.0</td>\n",
       "      <td>0.0</td>\n",
       "    </tr>\n",
       "  </tbody>\n",
       "</table>\n",
       "<p>10 rows × 8171 columns</p>\n",
       "</div>"
      ],
      "text/plain": [
       "id   10      20      30      40      50      60      70      80      130     \\\n",
       "uid                                                                           \n",
       "0       1.0     1.0     1.0     1.0     1.0     1.0     1.0     0.0     1.0   \n",
       "1       1.0     1.0     1.0     1.0     1.0     1.0     1.0     1.0     1.0   \n",
       "2       0.0     0.0     0.0     0.0     0.0     0.0     0.0     0.0     0.0   \n",
       "3       1.0     1.0     1.0     1.0     1.0     1.0     1.0     1.0     1.0   \n",
       "4       1.0     1.0     1.0     1.0     1.0     1.0     1.0     1.0     1.0   \n",
       "5       0.0     0.0     0.0     0.0     1.0     0.0     0.0     0.0     0.0   \n",
       "6       0.0     1.0     0.0     0.0     1.0     0.0     1.0     0.0     1.0   \n",
       "7       0.0     0.0     0.0     0.0     0.0     0.0     1.0     0.0     0.0   \n",
       "8       0.0     1.0     0.0     0.0     1.0     0.0     1.0     0.0     1.0   \n",
       "10      1.0     1.0     1.0     1.0     1.0     1.0     1.0     1.0     1.0   \n",
       "\n",
       "id   220     ...  525190  526460  526790  527340  527440  527510  527520  \\\n",
       "uid          ...                                                           \n",
       "0       1.0  ...     0.0     0.0     0.0     0.0     0.0     0.0     0.0   \n",
       "1       1.0  ...     0.0     0.0     0.0     0.0     0.0     0.0     0.0   \n",
       "2       1.0  ...     0.0     0.0     0.0     0.0     0.0     0.0     0.0   \n",
       "3       1.0  ...     0.0     0.0     0.0     0.0     0.0     0.0     0.0   \n",
       "4       1.0  ...     0.0     0.0     0.0     0.0     0.0     0.0     0.0   \n",
       "5       1.0  ...     0.0     0.0     0.0     0.0     0.0     0.0     0.0   \n",
       "6       1.0  ...     0.0     0.0     0.0     0.0     0.0     0.0     0.0   \n",
       "7       1.0  ...     0.0     0.0     0.0     0.0     0.0     0.0     0.0   \n",
       "8       1.0  ...     0.0     0.0     0.0     0.0     0.0     0.0     0.0   \n",
       "10      1.0  ...     0.0     0.0     0.0     0.0     0.0     0.0     0.0   \n",
       "\n",
       "id   527810  527900  530720  \n",
       "uid                          \n",
       "0       0.0     0.0     0.0  \n",
       "1       0.0     0.0     0.0  \n",
       "2       0.0     0.0     0.0  \n",
       "3       0.0     0.0     0.0  \n",
       "4       0.0     0.0     0.0  \n",
       "5       0.0     0.0     0.0  \n",
       "6       0.0     0.0     0.0  \n",
       "7       0.0     0.0     0.0  \n",
       "8       0.0     0.0     0.0  \n",
       "10      0.0     0.0     0.0  \n",
       "\n",
       "[10 rows x 8171 columns]"
      ]
     },
     "execution_count": 53,
     "metadata": {},
     "output_type": "execute_result"
    }
   ],
   "source": [
    "# Preview head\n",
    "inter_mat.head(10)"
   ]
  },
  {
   "cell_type": "markdown",
   "metadata": {},
   "source": [
    "### Break Down the dataset into train and test"
   ]
  },
  {
   "cell_type": "code",
   "execution_count": 54,
   "metadata": {},
   "outputs": [
    {
     "data": {
      "text/plain": [
       "8769"
      ]
     },
     "execution_count": 54,
     "metadata": {},
     "output_type": "execute_result"
    }
   ],
   "source": [
    "# Get number of users\n",
    "len(inter_mat)"
   ]
  },
  {
   "cell_type": "markdown",
   "metadata": {},
   "source": [
    "We choose to have roughly 80% of our data as training and 20% as test."
   ]
  },
  {
   "cell_type": "code",
   "execution_count": 55,
   "metadata": {},
   "outputs": [
    {
     "name": "stdout",
     "output_type": "stream",
     "text": [
      "We desire 7015.0 users in our training set.\n",
      "We desire 1754.0 users in our test set.\n"
     ]
    }
   ],
   "source": [
    "# Establish number of users in train/test sets\n",
    "\n",
    "train_num = round((80/100)*len(inter_mat),0)\n",
    "print(f'We desire {train_num} users in our training set.')\n",
    "\n",
    "test_num = len(inter_mat)-train_num\n",
    "print(f'We desire {test_num} users in our test set.')"
   ]
  },
  {
   "cell_type": "code",
   "execution_count": 56,
   "metadata": {},
   "outputs": [],
   "source": [
    "# Define train and test sets\n",
    "train = inter_mat[:7015]\n",
    "test = inter_mat[7015:]"
   ]
  },
  {
   "cell_type": "markdown",
   "metadata": {},
   "source": [
    "### Build Player Dictionary"
   ]
  },
  {
   "cell_type": "code",
   "execution_count": 57,
   "metadata": {
    "scrolled": false
   },
   "outputs": [],
   "source": [
    "# Create user dictionary using helper function\n",
    "player_dic = build_dic_user(matrix_inter=inter_mat)"
   ]
  },
  {
   "cell_type": "markdown",
   "metadata": {},
   "source": [
    "### Build Game Dictionary"
   ]
  },
  {
   "cell_type": "code",
   "execution_count": 59,
   "metadata": {},
   "outputs": [],
   "source": [
    "# Create game dictionary using helper function\n",
    "dic_game = build_dic_item(data_frame=game_recom_data, column_id= 'id', column_n='title')"
   ]
  },
  {
   "cell_type": "markdown",
   "metadata": {},
   "source": [
    "### Build Sparse Matrix"
   ]
  },
  {
   "cell_type": "markdown",
   "metadata": {},
   "source": [
    "We will transform the interaction into a sparse matrix, to make computations efficient.\n",
    "\n",
    "For the trainset, we simply use the `sparse.csr_matrix()` function.\n",
    "\n",
    "With the test set, due to a known issue, we need to add additional rows so that the number of rows matches the trains set."
   ]
  },
  {
   "cell_type": "code",
   "execution_count": 12,
   "metadata": {},
   "outputs": [],
   "source": [
    "# Create sparse matrices for evaluation \n",
    "train_sparse = sparse.csr_matrix(train.values)\n",
    "\n",
    "#Add X users to Test so that the number of rows in Train match Test\n",
    "N = train.shape[0] #Rows in Train set\n",
    "n,m = test.shape #Rows & columns in Test set\n",
    "z = np.zeros([(N-n),m]) #Create the necessary rows of zeros with m columns\n",
    "#test = test.toarray() #Temporarily convert Test into a numpy array\n",
    "test = np.vstack((test,z)) #Vertically stack Test on top of the blank users\n",
    "test_sparse = sparse.csr_matrix(test) #Convert back to sparse"
   ]
  },
  {
   "cell_type": "markdown",
   "metadata": {},
   "source": [
    "## Using Hybrid Model LightFM for the Recommendation"
   ]
  },
  {
   "cell_type": "markdown",
   "metadata": {},
   "source": [
    "### Input WARP loss model"
   ]
  },
  {
   "cell_type": "code",
   "execution_count": 14,
   "metadata": {},
   "outputs": [],
   "source": [
    "mf_model_warp = apply_model(matrix_inter= train,\n",
    "                 component_val= 30,\n",
    "                 loss = 'warp',\n",
    "                 epoch = 30,\n",
    "                 n_jobs = 4)"
   ]
  },
  {
   "cell_type": "code",
   "execution_count": 15,
   "metadata": {
    "scrolled": true
   },
   "outputs": [
    {
     "name": "stdout",
     "output_type": "stream",
     "text": [
      "Precision: train 0.73, test 0.43.\n"
     ]
    }
   ],
   "source": [
    "train_precision = precision_at_k(mf_model_warp, train_sparse, k=10).mean()\n",
    "test_precision = precision_at_k(mf_model_warp, test_sparse, k=10).mean()\n",
    "print('Precision: train %.2f, test %.2f.' % (train_precision, test_precision))"
   ]
  },
  {
   "cell_type": "code",
   "execution_count": 16,
   "metadata": {},
   "outputs": [
    {
     "name": "stdout",
     "output_type": "stream",
     "text": [
      "AUC: train 0.98, test 0.92.\n"
     ]
    }
   ],
   "source": [
    "train_auc = auc_score(mf_model_warp, train_sparse).mean()\n",
    "test_auc = auc_score(mf_model_warp, test_sparse).mean()\n",
    "print('AUC: train %.2f, test %.2f.' % (train_auc, test_auc))"
   ]
  },
  {
   "cell_type": "markdown",
   "metadata": {},
   "source": [
    "AUC score is very good on both train and test"
   ]
  },
  {
   "cell_type": "markdown",
   "metadata": {},
   "source": [
    "### Input BPR loss model"
   ]
  },
  {
   "cell_type": "code",
   "execution_count": 17,
   "metadata": {},
   "outputs": [],
   "source": [
    "mf_model_bpr = apply_model(matrix_inter= train,\n",
    "                 component_val= 30,\n",
    "                 loss = 'bpr',\n",
    "                 epoch = 30,\n",
    "                 n_jobs = 4)"
   ]
  },
  {
   "cell_type": "code",
   "execution_count": 18,
   "metadata": {},
   "outputs": [
    {
     "name": "stdout",
     "output_type": "stream",
     "text": [
      "Precision: train 0.80, test 0.36.\n"
     ]
    }
   ],
   "source": [
    "train_precision = precision_at_k(mf_model_bpr, train_sparse, k=10).mean()\n",
    "test_precision = precision_at_k(mf_model_bpr, test_sparse, k=10).mean()\n",
    "print('Precision: train %.2f, test %.2f.' % (train_precision, test_precision))"
   ]
  },
  {
   "cell_type": "code",
   "execution_count": 19,
   "metadata": {
    "scrolled": false
   },
   "outputs": [
    {
     "name": "stdout",
     "output_type": "stream",
     "text": [
      "AUC: train 0.96, test 0.71.\n"
     ]
    }
   ],
   "source": [
    "train_auc = auc_score(mf_model_bpr, train_sparse).mean()\n",
    "test_auc = auc_score(mf_model_bpr, test_sparse).mean()\n",
    "print('AUC: train %.2f, test %.2f.' % (train_auc, test_auc))"
   ]
  },
  {
   "cell_type": "markdown",
   "metadata": {},
   "source": [
    "Again, the AUC score is good, though significantly lower for the test set compare to the train set."
   ]
  },
  {
   "cell_type": "markdown",
   "metadata": {},
   "source": [
    "Based on these two models, we will keep WARP as the loss function due to better performance all round."
   ]
  },
  {
   "cell_type": "markdown",
   "metadata": {},
   "source": [
    "### Hyper Tuning of the model by varing components"
   ]
  },
  {
   "cell_type": "markdown",
   "metadata": {},
   "source": [
    "The `n_components` parameter controlls the number of embeddings (dimension of the features in the latent space.)\n",
    "\n",
    "We will vary this number, lowering it to `10` first and then increasing it to `50` to see how this affects model performance."
   ]
  },
  {
   "cell_type": "code",
   "execution_count": 20,
   "metadata": {},
   "outputs": [],
   "source": [
    "mf_model_warp_2 = apply_model(matrix_inter= train,\n",
    "                 component_val= 10,\n",
    "                 loss = 'warp',\n",
    "                 epoch = 30,\n",
    "                 n_jobs = 4)"
   ]
  },
  {
   "cell_type": "code",
   "execution_count": 21,
   "metadata": {},
   "outputs": [
    {
     "name": "stdout",
     "output_type": "stream",
     "text": [
      "Precision: train 0.68, test 0.48.\n"
     ]
    }
   ],
   "source": [
    "train_precision = precision_at_k(mf_model_warp_2, train_sparse, k=10).mean()\n",
    "test_precision = precision_at_k(mf_model_warp_2, test_sparse, k=10).mean()\n",
    "print('Precision: train %.2f, test %.2f.' % (train_precision, test_precision))"
   ]
  },
  {
   "cell_type": "code",
   "execution_count": 22,
   "metadata": {},
   "outputs": [
    {
     "name": "stdout",
     "output_type": "stream",
     "text": [
      "AUC: train 0.97, test 0.93.\n"
     ]
    }
   ],
   "source": [
    "train_auc = auc_score(mf_model_warp_2, train_sparse).mean()\n",
    "test_auc = auc_score(mf_model_warp_2, test_sparse).mean()\n",
    "print('AUC: train %.2f, test %.2f.' % (train_auc, test_auc))"
   ]
  },
  {
   "cell_type": "code",
   "execution_count": 23,
   "metadata": {},
   "outputs": [],
   "source": [
    "mf_model_warp_50 = apply_model(matrix_inter= train,\n",
    "                 component_val= 50,\n",
    "                 loss = 'warp',\n",
    "                 epoch = 30,\n",
    "                 n_jobs = 4)"
   ]
  },
  {
   "cell_type": "code",
   "execution_count": 24,
   "metadata": {},
   "outputs": [
    {
     "name": "stdout",
     "output_type": "stream",
     "text": [
      "Precision: train 0.76, test 0.42.\n"
     ]
    }
   ],
   "source": [
    "train_precision = precision_at_k(mf_model_warp_50, train_sparse, k=10).mean()\n",
    "test_precision = precision_at_k(mf_model_warp_50, test_sparse, k=10).mean()\n",
    "print('Precision: train %.2f, test %.2f.' % (train_precision, test_precision))"
   ]
  },
  {
   "cell_type": "code",
   "execution_count": 25,
   "metadata": {
    "scrolled": true
   },
   "outputs": [
    {
     "name": "stdout",
     "output_type": "stream",
     "text": [
      "AUC: train 0.99, test 0.91.\n"
     ]
    }
   ],
   "source": [
    "train_auc = auc_score(mf_model_warp_50, train_sparse).mean()\n",
    "test_auc = auc_score(mf_model_warp_50, test_sparse).mean()\n",
    "print('AUC: train %.2f, test %.2f.' % (train_auc, test_auc))"
   ]
  },
  {
   "cell_type": "markdown",
   "metadata": {},
   "source": [
    "In the end performance is not change on the base of component"
   ]
  },
  {
   "cell_type": "markdown",
   "metadata": {},
   "source": [
    "### Build Model"
   ]
  },
  {
   "cell_type": "code",
   "execution_count": 13,
   "metadata": {},
   "outputs": [],
   "source": [
    "# Instantiate and fit model on full interactions set\n",
    "light_fm_mode = apply_model(matrix_inter= inter_mat,\n",
    "                 component_val = 30,\n",
    "                 loss = 'warp',\n",
    "                 epoch = 30,\n",
    "                 n_jobs = 4)"
   ]
  },
  {
   "cell_type": "markdown",
   "metadata": {},
   "source": [
    "## Embeddings"
   ]
  },
  {
   "cell_type": "markdown",
   "metadata": {},
   "source": [
    "Apply Embedding Space of the Model"
   ]
  },
  {
   "cell_type": "markdown",
   "metadata": {},
   "source": [
    "### Retrieve embeddings matrix"
   ]
  },
  {
   "cell_type": "code",
   "execution_count": 14,
   "metadata": {
    "scrolled": true
   },
   "outputs": [
    {
     "data": {
      "text/plain": [
       "array([[-0.07690857,  0.66486156,  0.7936622 , ...,  0.14951605,\n",
       "        -0.0695671 , -0.6245182 ],\n",
       "       [-0.60291576,  0.83658946,  0.58764905, ...,  0.5114703 ,\n",
       "        -0.3604954 , -1.0809734 ],\n",
       "       [-0.2310924 ,  1.0992005 ,  0.64228845, ...,  0.98967004,\n",
       "         0.06214582, -0.49858683],\n",
       "       ...,\n",
       "       [ 0.64778465, -0.10613031,  0.09715862, ...,  0.57438576,\n",
       "        -0.2034148 , -0.07921824],\n",
       "       [ 0.27167612,  0.5803558 , -0.41966903, ...,  0.6099575 ,\n",
       "         0.5862158 , -0.12392855],\n",
       "       [ 0.35757646,  0.32205895, -0.3167676 , ...,  0.53355885,\n",
       "         0.01019462,  0.25211778]], dtype=float32)"
      ]
     },
     "execution_count": 14,
     "metadata": {},
     "output_type": "execute_result"
    }
   ],
   "source": [
    "# Get embeddings\n",
    "embeddings = light_fm_mode.item_embeddings\n",
    "embeddings"
   ]
  },
  {
   "cell_type": "code",
   "execution_count": 15,
   "metadata": {},
   "outputs": [
    {
     "data": {
      "text/plain": [
       "(8171, 30)"
      ]
     },
     "execution_count": 15,
     "metadata": {},
     "output_type": "execute_result"
    }
   ],
   "source": [
    "embeddings.shape"
   ]
  },
  {
   "cell_type": "markdown",
   "metadata": {},
   "source": [
    "Check the Game Vector"
   ]
  },
  {
   "cell_type": "code",
   "execution_count": 16,
   "metadata": {
    "scrolled": true
   },
   "outputs": [
    {
     "data": {
      "text/plain": [
       "array([-0.07690857,  0.66486156,  0.7936622 ,  0.40528223, -0.145565  ,\n",
       "       -0.36309764, -0.34237215,  0.15373814,  0.54323393, -0.5631929 ,\n",
       "       -0.61242783, -0.29522717,  0.5400072 ,  0.34600753, -0.74698734,\n",
       "       -0.2089371 ,  0.31638432, -0.23969008, -0.64567953, -0.39736956,\n",
       "        0.1493338 ,  0.21329583,  0.7203192 , -0.6489853 , -0.0677067 ,\n",
       "       -0.31437442,  0.27613798,  0.14951605, -0.0695671 , -0.6245182 ],\n",
       "      dtype=float32)"
      ]
     },
     "execution_count": 16,
     "metadata": {},
     "output_type": "execute_result"
    }
   ],
   "source": [
    "embeddings[0]"
   ]
  },
  {
   "cell_type": "markdown",
   "metadata": {},
   "source": [
    "Find the game name from the matrix"
   ]
  },
  {
   "cell_type": "code",
   "execution_count": 17,
   "metadata": {
    "scrolled": true
   },
   "outputs": [
    {
     "data": {
      "text/plain": [
       "'Counter-Strike'"
      ]
     },
     "execution_count": 17,
     "metadata": {},
     "output_type": "execute_result"
    }
   ],
   "source": [
    "firstgameid = inter_mat.columns[0]\n",
    "dic_game[firstgameid]"
   ]
  },
  {
   "cell_type": "markdown",
   "metadata": {},
   "source": [
    "### Pair similarity"
   ]
  },
  {
   "cell_type": "markdown",
   "metadata": {},
   "source": [
    "Let find the distance between the similar game\n",
    "\n",
    "We search the 'Counter-Strike' game"
   ]
  },
  {
   "cell_type": "code",
   "execution_count": 18,
   "metadata": {},
   "outputs": [
    {
     "data": {
      "text/html": [
       "<div>\n",
       "<style scoped>\n",
       "    .dataframe tbody tr th:only-of-type {\n",
       "        vertical-align: middle;\n",
       "    }\n",
       "\n",
       "    .dataframe tbody tr th {\n",
       "        vertical-align: top;\n",
       "    }\n",
       "\n",
       "    .dataframe thead th {\n",
       "        text-align: right;\n",
       "    }\n",
       "</style>\n",
       "<table border=\"1\" class=\"dataframe\">\n",
       "  <thead>\n",
       "    <tr style=\"text-align: right;\">\n",
       "      <th></th>\n",
       "      <th>publisher</th>\n",
       "      <th>genres</th>\n",
       "      <th>app_name</th>\n",
       "      <th>title</th>\n",
       "      <th>url</th>\n",
       "      <th>release_date</th>\n",
       "      <th>tags</th>\n",
       "      <th>discount_price</th>\n",
       "      <th>reviews_url</th>\n",
       "      <th>specs</th>\n",
       "      <th>price</th>\n",
       "      <th>early_access</th>\n",
       "      <th>id</th>\n",
       "      <th>developer</th>\n",
       "      <th>sentiment</th>\n",
       "      <th>metascore</th>\n",
       "    </tr>\n",
       "  </thead>\n",
       "  <tbody>\n",
       "    <tr>\n",
       "      <th>31529</th>\n",
       "      <td>Valve</td>\n",
       "      <td>['Action']</td>\n",
       "      <td>Left 4 Dead 2</td>\n",
       "      <td>Left 4 Dead 2</td>\n",
       "      <td>http://store.steampowered.com/app/550/Left_4_D...</td>\n",
       "      <td>2009-11-16</td>\n",
       "      <td>['Zombies', 'Co-op', 'FPS', 'Multiplayer', 'Ac...</td>\n",
       "      <td>NaN</td>\n",
       "      <td>http://steamcommunity.com/app/550/reviews/?bro...</td>\n",
       "      <td>['Single-player', 'Multi-player', 'Co-op', 'St...</td>\n",
       "      <td>19.99</td>\n",
       "      <td>False</td>\n",
       "      <td>550.0</td>\n",
       "      <td>Valve</td>\n",
       "      <td>Overwhelmingly Positive</td>\n",
       "      <td>89.0</td>\n",
       "    </tr>\n",
       "    <tr>\n",
       "      <th>32106</th>\n",
       "      <td>Valve</td>\n",
       "      <td>['Action']</td>\n",
       "      <td>Counter-Strike</td>\n",
       "      <td>Counter-Strike</td>\n",
       "      <td>http://store.steampowered.com/app/10/CounterSt...</td>\n",
       "      <td>2000-11-01</td>\n",
       "      <td>['Action', 'FPS', 'Multiplayer', 'Shooter', 'C...</td>\n",
       "      <td>NaN</td>\n",
       "      <td>http://steamcommunity.com/app/10/reviews/?brow...</td>\n",
       "      <td>['Multi-player', 'Valve Anti-Cheat enabled']</td>\n",
       "      <td>9.99</td>\n",
       "      <td>False</td>\n",
       "      <td>10.0</td>\n",
       "      <td>Valve</td>\n",
       "      <td>Overwhelmingly Positive</td>\n",
       "      <td>88.0</td>\n",
       "    </tr>\n",
       "  </tbody>\n",
       "</table>\n",
       "</div>"
      ],
      "text/plain": [
       "      publisher      genres        app_name           title  \\\n",
       "31529     Valve  ['Action']   Left 4 Dead 2   Left 4 Dead 2   \n",
       "32106     Valve  ['Action']  Counter-Strike  Counter-Strike   \n",
       "\n",
       "                                                     url release_date  \\\n",
       "31529  http://store.steampowered.com/app/550/Left_4_D...   2009-11-16   \n",
       "32106  http://store.steampowered.com/app/10/CounterSt...   2000-11-01   \n",
       "\n",
       "                                                    tags  discount_price  \\\n",
       "31529  ['Zombies', 'Co-op', 'FPS', 'Multiplayer', 'Ac...             NaN   \n",
       "32106  ['Action', 'FPS', 'Multiplayer', 'Shooter', 'C...             NaN   \n",
       "\n",
       "                                             reviews_url  \\\n",
       "31529  http://steamcommunity.com/app/550/reviews/?bro...   \n",
       "32106  http://steamcommunity.com/app/10/reviews/?brow...   \n",
       "\n",
       "                                                   specs  price  early_access  \\\n",
       "31529  ['Single-player', 'Multi-player', 'Co-op', 'St...  19.99         False   \n",
       "32106       ['Multi-player', 'Valve Anti-Cheat enabled']   9.99         False   \n",
       "\n",
       "          id developer                sentiment  metascore  \n",
       "31529  550.0     Valve  Overwhelmingly Positive       89.0  \n",
       "32106   10.0     Valve  Overwhelmingly Positive       88.0  "
      ]
     },
     "execution_count": 18,
     "metadata": {},
     "output_type": "execute_result"
    }
   ],
   "source": [
    "game_recom_data[(game_recom_data['title']=='Counter-Strike') | (game_recom_data['title']=='Left 4 Dead 2') ]"
   ]
  },
  {
   "cell_type": "markdown",
   "metadata": {},
   "source": [
    "Check the Vector of the games"
   ]
  },
  {
   "cell_type": "code",
   "execution_count": 19,
   "metadata": {},
   "outputs": [
    {
     "data": {
      "text/plain": [
       "array([-0.07690857,  0.66486156,  0.7936622 ,  0.40528223, -0.145565  ,\n",
       "       -0.36309764, -0.34237215,  0.15373814,  0.54323393, -0.5631929 ,\n",
       "       -0.61242783, -0.29522717,  0.5400072 ,  0.34600753, -0.74698734,\n",
       "       -0.2089371 ,  0.31638432, -0.23969008, -0.64567953, -0.39736956,\n",
       "        0.1493338 ,  0.21329583,  0.7203192 , -0.6489853 , -0.0677067 ,\n",
       "       -0.31437442,  0.27613798,  0.14951605, -0.0695671 , -0.6245182 ],\n",
       "      dtype=float32)"
      ]
     },
     "execution_count": 19,
     "metadata": {},
     "output_type": "execute_result"
    }
   ],
   "source": [
    "cs_index = 0\n",
    "cs_vector = embeddings[cs_index]\n",
    "cs_vector"
   ]
  },
  {
   "cell_type": "code",
   "execution_count": 20,
   "metadata": {
    "scrolled": false
   },
   "outputs": [
    {
     "data": {
      "text/plain": [
       "array([-0.01273242, -0.07405546,  0.6101665 ,  0.1412955 , -0.330248  ,\n",
       "       -0.9404025 , -0.29786164, -0.25623107,  0.19409557,  0.40056136,\n",
       "       -0.60454905,  0.01597847,  0.29765967,  1.0109664 , -0.6728011 ,\n",
       "        0.5028252 , -0.14399414, -0.2512675 , -0.32039464, -0.43069765,\n",
       "        0.16283731,  0.60680556,  0.1759727 , -0.2787006 , -0.5939248 ,\n",
       "        0.5459706 ,  0.28189695, -0.43314165, -0.60124415, -0.62766606],\n",
       "      dtype=float32)"
      ]
     },
     "execution_count": 20,
     "metadata": {},
     "output_type": "execute_result"
    }
   ],
   "source": [
    "lfd2_id = game_recom_data[game_recom_data['title']=='Left 4 Dead 2']['id'].values[0]\n",
    "lfd2_index = list(inter_mat.columns).index(lfd2_id)\n",
    "lfd2_vector = embeddings[lfd2_index]\n",
    "lfd2_vector"
   ]
  },
  {
   "cell_type": "markdown",
   "metadata": {},
   "source": [
    "To assign a single value to the similarity between these two vectors, we calculate the distance between them. Let us first compute the Euclidean distance."
   ]
  },
  {
   "cell_type": "code",
   "execution_count": 21,
   "metadata": {},
   "outputs": [
    {
     "data": {
      "text/plain": [
       "2.4286489486694336"
      ]
     },
     "execution_count": 21,
     "metadata": {},
     "output_type": "execute_result"
    }
   ],
   "source": [
    "# Compute Euclidean distance\n",
    "distance.euclidean(cs_vector, lfd2_vector)"
   ]
  },
  {
   "cell_type": "markdown",
   "metadata": {},
   "source": [
    "Let us compare this figure with a pair of games we believe to be very different."
   ]
  },
  {
   "cell_type": "code",
   "execution_count": 22,
   "metadata": {},
   "outputs": [
    {
     "data": {
      "text/html": [
       "<div>\n",
       "<style scoped>\n",
       "    .dataframe tbody tr th:only-of-type {\n",
       "        vertical-align: middle;\n",
       "    }\n",
       "\n",
       "    .dataframe tbody tr th {\n",
       "        vertical-align: top;\n",
       "    }\n",
       "\n",
       "    .dataframe thead th {\n",
       "        text-align: right;\n",
       "    }\n",
       "</style>\n",
       "<table border=\"1\" class=\"dataframe\">\n",
       "  <thead>\n",
       "    <tr style=\"text-align: right;\">\n",
       "      <th></th>\n",
       "      <th>publisher</th>\n",
       "      <th>genres</th>\n",
       "      <th>app_name</th>\n",
       "      <th>title</th>\n",
       "      <th>url</th>\n",
       "      <th>release_date</th>\n",
       "      <th>tags</th>\n",
       "      <th>discount_price</th>\n",
       "      <th>reviews_url</th>\n",
       "      <th>specs</th>\n",
       "      <th>price</th>\n",
       "      <th>early_access</th>\n",
       "      <th>id</th>\n",
       "      <th>developer</th>\n",
       "      <th>sentiment</th>\n",
       "      <th>metascore</th>\n",
       "    </tr>\n",
       "  </thead>\n",
       "  <tbody>\n",
       "    <tr>\n",
       "      <th>2472</th>\n",
       "      <td>Fireproof Games</td>\n",
       "      <td>['Adventure', 'Indie']</td>\n",
       "      <td>The Room</td>\n",
       "      <td>The Room</td>\n",
       "      <td>http://store.steampowered.com/app/288160/The_R...</td>\n",
       "      <td>2014-07-28</td>\n",
       "      <td>['Puzzle', 'Adventure', 'Point &amp; Click', 'Indi...</td>\n",
       "      <td>NaN</td>\n",
       "      <td>http://steamcommunity.com/app/288160/reviews/?...</td>\n",
       "      <td>['Single-player', 'Steam Achievements', 'Steam...</td>\n",
       "      <td>4.99</td>\n",
       "      <td>False</td>\n",
       "      <td>288160.0</td>\n",
       "      <td>Fireproof Games</td>\n",
       "      <td>Overwhelmingly Positive</td>\n",
       "      <td>73.0</td>\n",
       "    </tr>\n",
       "    <tr>\n",
       "      <th>32106</th>\n",
       "      <td>Valve</td>\n",
       "      <td>['Action']</td>\n",
       "      <td>Counter-Strike</td>\n",
       "      <td>Counter-Strike</td>\n",
       "      <td>http://store.steampowered.com/app/10/CounterSt...</td>\n",
       "      <td>2000-11-01</td>\n",
       "      <td>['Action', 'FPS', 'Multiplayer', 'Shooter', 'C...</td>\n",
       "      <td>NaN</td>\n",
       "      <td>http://steamcommunity.com/app/10/reviews/?brow...</td>\n",
       "      <td>['Multi-player', 'Valve Anti-Cheat enabled']</td>\n",
       "      <td>9.99</td>\n",
       "      <td>False</td>\n",
       "      <td>10.0</td>\n",
       "      <td>Valve</td>\n",
       "      <td>Overwhelmingly Positive</td>\n",
       "      <td>88.0</td>\n",
       "    </tr>\n",
       "  </tbody>\n",
       "</table>\n",
       "</div>"
      ],
      "text/plain": [
       "             publisher                  genres        app_name  \\\n",
       "2472   Fireproof Games  ['Adventure', 'Indie']        The Room   \n",
       "32106            Valve              ['Action']  Counter-Strike   \n",
       "\n",
       "                title                                                url  \\\n",
       "2472         The Room  http://store.steampowered.com/app/288160/The_R...   \n",
       "32106  Counter-Strike  http://store.steampowered.com/app/10/CounterSt...   \n",
       "\n",
       "      release_date                                               tags  \\\n",
       "2472    2014-07-28  ['Puzzle', 'Adventure', 'Point & Click', 'Indi...   \n",
       "32106   2000-11-01  ['Action', 'FPS', 'Multiplayer', 'Shooter', 'C...   \n",
       "\n",
       "       discount_price                                        reviews_url  \\\n",
       "2472              NaN  http://steamcommunity.com/app/288160/reviews/?...   \n",
       "32106             NaN  http://steamcommunity.com/app/10/reviews/?brow...   \n",
       "\n",
       "                                                   specs price  early_access  \\\n",
       "2472   ['Single-player', 'Steam Achievements', 'Steam...  4.99         False   \n",
       "32106       ['Multi-player', 'Valve Anti-Cheat enabled']  9.99         False   \n",
       "\n",
       "             id        developer                sentiment  metascore  \n",
       "2472   288160.0  Fireproof Games  Overwhelmingly Positive       73.0  \n",
       "32106      10.0            Valve  Overwhelmingly Positive       88.0  "
      ]
     },
     "execution_count": 22,
     "metadata": {},
     "output_type": "execute_result"
    }
   ],
   "source": [
    "# Get data for both games\n",
    "game_recom_data[(game_recom_data['title']=='Counter-Strike') | (game_recom_data['title']=='The Room') ]"
   ]
  },
  {
   "cell_type": "code",
   "execution_count": 23,
   "metadata": {
    "scrolled": false
   },
   "outputs": [
    {
     "data": {
      "text/plain": [
       "array([-0.1024242 ,  0.4752257 ,  0.24124612, -0.00741749,  0.21419159,\n",
       "       -0.28054076, -0.03180434, -0.38254467,  0.13352183, -0.33322603,\n",
       "        0.13092154, -0.15414314,  0.00489135, -0.19807154, -0.33829376,\n",
       "       -0.07191804, -0.17468366,  0.18996401,  0.08875996,  0.30820638,\n",
       "        0.35630605,  0.00255273, -0.5786068 ,  0.22534879,  0.0135782 ,\n",
       "       -0.45574978, -0.27468544, -0.31314114, -0.21707602, -0.04487913],\n",
       "      dtype=float32)"
      ]
     },
     "execution_count": 23,
     "metadata": {},
     "output_type": "execute_result"
    }
   ],
   "source": [
    "# Retrieve game id for The Room\n",
    "room_id = game_recom_data[game_recom_data['title']=='The Room']['id'].values[0]\n",
    "\n",
    "# Obtain index for Squad in interactions matrix\n",
    "room_index = list(inter_mat.columns).index(room_id)\n",
    "\n",
    "# Obtain embeddings vector\n",
    "room_vector = embeddings[room_index]\n",
    "\n",
    "room_vector"
   ]
  },
  {
   "cell_type": "code",
   "execution_count": 24,
   "metadata": {
    "scrolled": false
   },
   "outputs": [
    {
     "data": {
      "text/plain": [
       "2.738154172897339"
      ]
     },
     "execution_count": 24,
     "metadata": {},
     "output_type": "execute_result"
    }
   ],
   "source": [
    "# Compute Euclidean distance\n",
    "distance.euclidean(cs_vector, room_vector)"
   ]
  },
  {
   "cell_type": "markdown",
   "metadata": {},
   "source": [
    "Check the distance with cosine distance"
   ]
  },
  {
   "cell_type": "code",
   "execution_count": 25,
   "metadata": {
    "scrolled": true
   },
   "outputs": [
    {
     "name": "stdout",
     "output_type": "stream",
     "text": [
      "Cosine distance between Counter Strike and Left 4 Dead 2: 0.4738824963569641\n",
      "Cosine distance between Counter Strike and The Room: 0.9319570809602737\n"
     ]
    }
   ],
   "source": [
    "print(f'Cosine distance between Counter Strike and Left 4 Dead 2: {distance.cosine(cs_vector, lfd2_vector)}')\n",
    "print(f'Cosine distance between Counter Strike and The Room: {distance.cosine(cs_vector, room_vector)}')"
   ]
  },
  {
   "cell_type": "markdown",
   "metadata": {},
   "source": [
    "### Exploring embeddings with Gensim"
   ]
  },
  {
   "cell_type": "code",
   "execution_count": 26,
   "metadata": {
    "scrolled": true
   },
   "outputs": [],
   "source": [
    "embedding_size = embeddings.shape[1]\n",
    "kv = Word2VecKeyedVectors(embedding_size)\n",
    "\n",
    "gameslist = []\n",
    "for game_id in inter_mat.columns:\n",
    "    name = dic_game[game_id]\n",
    "    gameslist.append(name)\n",
    "    \n",
    "kv.add_vectors(gameslist, embeddings)"
   ]
  },
  {
   "cell_type": "markdown",
   "metadata": {},
   "source": [
    "Let us obtain the games closest to `Counter-Strike`."
   ]
  },
  {
   "cell_type": "code",
   "execution_count": 27,
   "metadata": {
    "scrolled": true
   },
   "outputs": [
    {
     "data": {
      "text/plain": [
       "[('Counter-Strike: Condition Zero', 0.9755569100379944),\n",
       " ('Day of Defeat', 0.8177651762962341),\n",
       " ('Half-Life: Source', 0.8058030009269714),\n",
       " ('Day of Defeat: Source', 0.8011133074760437),\n",
       " ('Team Fortress Classic', 0.7981202006340027),\n",
       " ('Half-Life: Blue Shift', 0.7888646721839905),\n",
       " ('Half-Life', 0.7878614068031311),\n",
       " ('Ricochet', 0.7845215797424316),\n",
       " ('Deathmatch Classic', 0.7804338335990906),\n",
       " ('Half-Life: Opposing Force', 0.7775993347167969)]"
      ]
     },
     "execution_count": 27,
     "metadata": {},
     "output_type": "execute_result"
    }
   ],
   "source": [
    "kv.most_similar('Counter-Strike')"
   ]
  },
  {
   "cell_type": "code",
   "execution_count": 41,
   "metadata": {},
   "outputs": [
    {
     "data": {
      "text/plain": [
       "[('PAYDAY™ The Heist', 0.9239243865013123),\n",
       " ('Borderlands 2', 0.8823978900909424),\n",
       " (\"Garry's Mod\", 0.8753825426101685),\n",
       " ('Counter-Strike: Global Offensive', 0.8716615438461304),\n",
       " ('Killing Floor', 0.8585674166679382),\n",
       " ('Defence Alliance 2', 0.8505985140800476),\n",
       " ('The Ship: Murder Party', 0.842189610004425),\n",
       " ('Saints Row IV', 0.8398149609565735),\n",
       " ('Terraria', 0.8383126854896545),\n",
       " ('Chivalry: Medieval Warfare', 0.8292756676673889)]"
      ]
     },
     "execution_count": 41,
     "metadata": {},
     "output_type": "execute_result"
    }
   ],
   "source": [
    "kv.most_similar('Left 4 Dead 2')"
   ]
  },
  {
   "cell_type": "code",
   "execution_count": 28,
   "metadata": {},
   "outputs": [],
   "source": [
    "def build_graph(game, x, best_num=5):\n",
    "    sim = kv.most_similar(game, topn=best_num)[::-1]\n",
    "    y = np.arange(len(sim))\n",
    "    w = [t[1] for t in sim]\n",
    "    x.barh(y, w)\n",
    "    left = min(.6, min(w))\n",
    "    x.set_xlim(right=1.0, left=left)\n",
    "    # Split long titles over multiple lines\n",
    "    labels = [textwrap.fill(t[0] , width=24)\n",
    "              for t in sim]\n",
    "    x.set_yticks(y)\n",
    "    x.set_yticklabels(labels)\n",
    "    x.set_title(game)   "
   ]
  },
  {
   "cell_type": "code",
   "execution_count": 29,
   "metadata": {},
   "outputs": [
    {
     "data": {
      "image/png": "[encoded data removed]",
      "text/plain": [
       "<Figure size 1080x648 with 4 Axes>"
      ]
     },
     "metadata": {
      "needs_background": "light"
     },
     "output_type": "display_data"
    }
   ],
   "source": [
    "list_game = ['RollerCoaster Tycoon®: Deluxe', 'Dishonored', \n",
    "         'The Jackbox Party Pack', 'American Truck Simulator']\n",
    "\n",
    "figure, ax = plt.subplots(2, 2, figsize=(15, 9))\n",
    "\n",
    "for game, ax in zip(list_game, ax.flatten()):\n",
    "    build_graph(game, ax)\n",
    "    \n",
    "figure.tight_layout()"
   ]
  },
  {
   "cell_type": "markdown",
   "metadata": {},
   "source": [
    "## User Recommendations"
   ]
  },
  {
   "cell_type": "markdown",
   "metadata": {},
   "source": [
    "### Recommendations for existing user"
   ]
  },
  {
   "cell_type": "code",
   "execution_count": 31,
   "metadata": {},
   "outputs": [
    {
     "name": "stdout",
     "output_type": "stream",
     "text": [
      "Games Likes:\n",
      "1- Dungeon Fighter Online\n",
      "2- ESEA\n",
      "3- H1Z1 Test Server\n",
      "4- H1Z1\n",
      "5- CS:GO Player Profiles\n",
      "6- Just Survive Test Server\n",
      "7- AdVenture Capitalist\n",
      "8- Strife®\n",
      "9- Dirty Bomb®\n",
      "10- Game of Thrones - A Telltale Games Series\n",
      "11- Don't Starve Together\n",
      "12- Unturned\n",
      "13- Robocraft\n",
      "14- Mount Your Friends\n",
      "15- Warface\n",
      "16- Fistful of Frags\n",
      "17- The Walking Dead: Season 2\n",
      "18- Rust\n",
      "19- Toribash\n",
      "20- Heroes &amp; Generals\n",
      "21- FEZ\n",
      "22- No More Room in Hell\n",
      "23- Cry of Fear\n",
      "24- Insurgency\n",
      "25- Hotline Miami\n",
      "26- MapleStory\n",
      "27- The Walking Dead\n",
      "28- Castle Crashers®\n",
      "29- Max Payne 3\n",
      "30- Mount &amp; Blade: Warband\n",
      "31- Super Meat Boy\n",
      "32- Defence Alliance 2\n",
      "33- TrackMania Nations Forever\n",
      "34- BioShock Infinite\n",
      "35- Just Cause 2\n",
      "36- Garry's Mod\n",
      "37- Killing Floor\n",
      "38- Counter-Strike: Global Offensive\n",
      "39- Left 4 Dead 2\n",
      "40- Left 4 Dead\n",
      "41- Half-Life 2: Episode Two\n",
      "42- Portal\n",
      "43- Half-Life 2: Episode One\n",
      "44- Half-Life Deathmatch: Source\n",
      "45- Half-Life 2: Lost Coast\n",
      "46- Half-Life 2: Deathmatch\n",
      "47- Counter-Strike: Source\n",
      "48- Half-Life 2\n",
      "\n",
      " Game Recommended Items:\n",
      "1- Portal 2\n",
      "2- Terraria\n",
      "3- Rocket League®\n",
      "4- Grand Theft Auto V\n",
      "5- Warframe\n"
     ]
    }
   ],
   "source": [
    "# Get recommendations\n",
    "rec_list_u12 = find_recom(rec_mode= light_fm_mode, \n",
    "                    matrix_inter= inter_mat, \n",
    "                    player_id= 5000, \n",
    "                    dic_player= player_dic,\n",
    "                    dic_game= dic_game, \n",
    "                    threshold = 0,\n",
    "                    num_items = 5,\n",
    "                    show_known = True, \n",
    "                    show_recs = True)"
   ]
  },
  {
   "cell_type": "markdown",
   "metadata": {},
   "source": [
    "## Item Recommendations"
   ]
  },
  {
   "cell_type": "markdown",
   "metadata": {},
   "source": [
    "### Create item embedding matrix"
   ]
  },
  {
   "cell_type": "code",
   "execution_count": 32,
   "metadata": {},
   "outputs": [],
   "source": [
    "game_mat_data =  build_embedding_mat(rec_mode=light_fm_mode, matrix_inter=inter_mat)"
   ]
  },
  {
   "cell_type": "code",
   "execution_count": 33,
   "metadata": {},
   "outputs": [
    {
     "data": {
      "text/plain": [
       "(8171, 8171)"
      ]
     },
     "execution_count": 33,
     "metadata": {},
     "output_type": "execute_result"
    }
   ],
   "source": [
    "game_mat_data.shape"
   ]
  },
  {
   "cell_type": "code",
   "execution_count": 34,
   "metadata": {},
   "outputs": [
    {
     "data": {
      "text/html": [
       "<div>\n",
       "<style scoped>\n",
       "    .dataframe tbody tr th:only-of-type {\n",
       "        vertical-align: middle;\n",
       "    }\n",
       "\n",
       "    .dataframe tbody tr th {\n",
       "        vertical-align: top;\n",
       "    }\n",
       "\n",
       "    .dataframe thead th {\n",
       "        text-align: right;\n",
       "    }\n",
       "</style>\n",
       "<table border=\"1\" class=\"dataframe\">\n",
       "  <thead>\n",
       "    <tr style=\"text-align: right;\">\n",
       "      <th>id</th>\n",
       "      <th>10</th>\n",
       "      <th>20</th>\n",
       "      <th>30</th>\n",
       "      <th>40</th>\n",
       "      <th>50</th>\n",
       "      <th>60</th>\n",
       "      <th>70</th>\n",
       "      <th>80</th>\n",
       "      <th>130</th>\n",
       "      <th>220</th>\n",
       "      <th>...</th>\n",
       "      <th>525190</th>\n",
       "      <th>526460</th>\n",
       "      <th>526790</th>\n",
       "      <th>527340</th>\n",
       "      <th>527440</th>\n",
       "      <th>527510</th>\n",
       "      <th>527520</th>\n",
       "      <th>527810</th>\n",
       "      <th>527900</th>\n",
       "      <th>530720</th>\n",
       "    </tr>\n",
       "    <tr>\n",
       "      <th>id</th>\n",
       "      <th></th>\n",
       "      <th></th>\n",
       "      <th></th>\n",
       "      <th></th>\n",
       "      <th></th>\n",
       "      <th></th>\n",
       "      <th></th>\n",
       "      <th></th>\n",
       "      <th></th>\n",
       "      <th></th>\n",
       "      <th></th>\n",
       "      <th></th>\n",
       "      <th></th>\n",
       "      <th></th>\n",
       "      <th></th>\n",
       "      <th></th>\n",
       "      <th></th>\n",
       "      <th></th>\n",
       "      <th></th>\n",
       "      <th></th>\n",
       "      <th></th>\n",
       "    </tr>\n",
       "  </thead>\n",
       "  <tbody>\n",
       "    <tr>\n",
       "      <th>10</th>\n",
       "      <td>1.000000</td>\n",
       "      <td>0.798120</td>\n",
       "      <td>0.817765</td>\n",
       "      <td>0.780434</td>\n",
       "      <td>0.777599</td>\n",
       "      <td>0.784522</td>\n",
       "      <td>0.787861</td>\n",
       "      <td>0.975557</td>\n",
       "      <td>0.788865</td>\n",
       "      <td>0.720709</td>\n",
       "      <td>...</td>\n",
       "      <td>-0.306754</td>\n",
       "      <td>-0.330438</td>\n",
       "      <td>-0.341211</td>\n",
       "      <td>-0.054234</td>\n",
       "      <td>-0.361544</td>\n",
       "      <td>-0.485556</td>\n",
       "      <td>-0.328589</td>\n",
       "      <td>-0.066259</td>\n",
       "      <td>-0.281063</td>\n",
       "      <td>-0.482814</td>\n",
       "    </tr>\n",
       "    <tr>\n",
       "      <th>20</th>\n",
       "      <td>0.798120</td>\n",
       "      <td>1.000000</td>\n",
       "      <td>0.867307</td>\n",
       "      <td>0.852161</td>\n",
       "      <td>0.994024</td>\n",
       "      <td>0.866077</td>\n",
       "      <td>0.977754</td>\n",
       "      <td>0.699381</td>\n",
       "      <td>0.995552</td>\n",
       "      <td>0.846169</td>\n",
       "      <td>...</td>\n",
       "      <td>-0.293373</td>\n",
       "      <td>-0.205190</td>\n",
       "      <td>-0.240755</td>\n",
       "      <td>-0.133135</td>\n",
       "      <td>-0.242896</td>\n",
       "      <td>-0.352428</td>\n",
       "      <td>-0.174543</td>\n",
       "      <td>-0.130799</td>\n",
       "      <td>-0.206378</td>\n",
       "      <td>-0.334659</td>\n",
       "    </tr>\n",
       "    <tr>\n",
       "      <th>30</th>\n",
       "      <td>0.817765</td>\n",
       "      <td>0.867307</td>\n",
       "      <td>1.000000</td>\n",
       "      <td>0.990534</td>\n",
       "      <td>0.862059</td>\n",
       "      <td>0.990114</td>\n",
       "      <td>0.843498</td>\n",
       "      <td>0.719655</td>\n",
       "      <td>0.871238</td>\n",
       "      <td>0.718637</td>\n",
       "      <td>...</td>\n",
       "      <td>-0.162556</td>\n",
       "      <td>-0.096175</td>\n",
       "      <td>-0.150723</td>\n",
       "      <td>-0.181699</td>\n",
       "      <td>-0.069702</td>\n",
       "      <td>-0.258437</td>\n",
       "      <td>-0.061448</td>\n",
       "      <td>0.054523</td>\n",
       "      <td>-0.009513</td>\n",
       "      <td>-0.191741</td>\n",
       "    </tr>\n",
       "    <tr>\n",
       "      <th>40</th>\n",
       "      <td>0.780434</td>\n",
       "      <td>0.852161</td>\n",
       "      <td>0.990534</td>\n",
       "      <td>1.000000</td>\n",
       "      <td>0.849804</td>\n",
       "      <td>0.994848</td>\n",
       "      <td>0.820985</td>\n",
       "      <td>0.670797</td>\n",
       "      <td>0.858557</td>\n",
       "      <td>0.672284</td>\n",
       "      <td>...</td>\n",
       "      <td>-0.095033</td>\n",
       "      <td>-0.022256</td>\n",
       "      <td>-0.077084</td>\n",
       "      <td>-0.152839</td>\n",
       "      <td>-0.026975</td>\n",
       "      <td>-0.190437</td>\n",
       "      <td>0.011434</td>\n",
       "      <td>0.098432</td>\n",
       "      <td>0.068500</td>\n",
       "      <td>-0.126358</td>\n",
       "    </tr>\n",
       "    <tr>\n",
       "      <th>50</th>\n",
       "      <td>0.777599</td>\n",
       "      <td>0.994024</td>\n",
       "      <td>0.862059</td>\n",
       "      <td>0.849804</td>\n",
       "      <td>1.000000</td>\n",
       "      <td>0.862647</td>\n",
       "      <td>0.981975</td>\n",
       "      <td>0.675560</td>\n",
       "      <td>0.996402</td>\n",
       "      <td>0.849154</td>\n",
       "      <td>...</td>\n",
       "      <td>-0.301745</td>\n",
       "      <td>-0.195885</td>\n",
       "      <td>-0.240017</td>\n",
       "      <td>-0.145447</td>\n",
       "      <td>-0.224202</td>\n",
       "      <td>-0.325862</td>\n",
       "      <td>-0.143163</td>\n",
       "      <td>-0.115081</td>\n",
       "      <td>-0.192277</td>\n",
       "      <td>-0.309017</td>\n",
       "    </tr>\n",
       "  </tbody>\n",
       "</table>\n",
       "<p>5 rows × 8171 columns</p>\n",
       "</div>"
      ],
      "text/plain": [
       "id    10        20        30        40        50        60        70      \\\n",
       "id                                                                         \n",
       "10  1.000000  0.798120  0.817765  0.780434  0.777599  0.784522  0.787861   \n",
       "20  0.798120  1.000000  0.867307  0.852161  0.994024  0.866077  0.977754   \n",
       "30  0.817765  0.867307  1.000000  0.990534  0.862059  0.990114  0.843498   \n",
       "40  0.780434  0.852161  0.990534  1.000000  0.849804  0.994848  0.820985   \n",
       "50  0.777599  0.994024  0.862059  0.849804  1.000000  0.862647  0.981975   \n",
       "\n",
       "id    80        130       220     ...    525190    526460    526790    527340  \\\n",
       "id                                ...                                           \n",
       "10  0.975557  0.788865  0.720709  ... -0.306754 -0.330438 -0.341211 -0.054234   \n",
       "20  0.699381  0.995552  0.846169  ... -0.293373 -0.205190 -0.240755 -0.133135   \n",
       "30  0.719655  0.871238  0.718637  ... -0.162556 -0.096175 -0.150723 -0.181699   \n",
       "40  0.670797  0.858557  0.672284  ... -0.095033 -0.022256 -0.077084 -0.152839   \n",
       "50  0.675560  0.996402  0.849154  ... -0.301745 -0.195885 -0.240017 -0.145447   \n",
       "\n",
       "id    527440    527510    527520    527810    527900    530720  \n",
       "id                                                              \n",
       "10 -0.361544 -0.485556 -0.328589 -0.066259 -0.281063 -0.482814  \n",
       "20 -0.242896 -0.352428 -0.174543 -0.130799 -0.206378 -0.334659  \n",
       "30 -0.069702 -0.258437 -0.061448  0.054523 -0.009513 -0.191741  \n",
       "40 -0.026975 -0.190437  0.011434  0.098432  0.068500 -0.126358  \n",
       "50 -0.224202 -0.325862 -0.143163 -0.115081 -0.192277 -0.309017  \n",
       "\n",
       "[5 rows x 8171 columns]"
      ]
     },
     "execution_count": 34,
     "metadata": {},
     "output_type": "execute_result"
    }
   ],
   "source": [
    "game_mat_data.head()"
   ]
  },
  {
   "cell_type": "markdown",
   "metadata": {},
   "source": [
    "### Generate item recommendations"
   ]
  },
  {
   "cell_type": "code",
   "execution_count": 37,
   "metadata": {},
   "outputs": [
    {
     "name": "stdout",
     "output_type": "stream",
     "text": [
      "Item of interest: Counter-Strike\n",
      "Similar items:\n",
      "1- Counter-Strike: Condition Zero\n",
      "2- Day of Defeat\n",
      "3- Half-Life: Source\n",
      "4- Day of Defeat: Source\n",
      "5- Team Fortress Classic\n",
      "6- Half-Life: Blue Shift\n"
     ]
    }
   ],
   "source": [
    "item_rec_list_10 = return_recomm( embedd_mat= game_mat_data, \n",
    "                              game_id= 10, \n",
    "                              dic_game= dic_game, \n",
    "                              n_items = 6, \n",
    "                              show = True)"
   ]
  },
  {
   "cell_type": "code",
   "execution_count": 62,
   "metadata": {},
   "outputs": [
    {
     "data": {
      "text/html": [
       "<div>\n",
       "<style scoped>\n",
       "    .dataframe tbody tr th:only-of-type {\n",
       "        vertical-align: middle;\n",
       "    }\n",
       "\n",
       "    .dataframe tbody tr th {\n",
       "        vertical-align: top;\n",
       "    }\n",
       "\n",
       "    .dataframe thead th {\n",
       "        text-align: right;\n",
       "    }\n",
       "</style>\n",
       "<table border=\"1\" class=\"dataframe\">\n",
       "  <thead>\n",
       "    <tr style=\"text-align: right;\">\n",
       "      <th></th>\n",
       "      <th>publisher</th>\n",
       "      <th>genres</th>\n",
       "      <th>app_name</th>\n",
       "      <th>title</th>\n",
       "      <th>url</th>\n",
       "      <th>release_date</th>\n",
       "      <th>tags</th>\n",
       "      <th>discount_price</th>\n",
       "      <th>reviews_url</th>\n",
       "      <th>specs</th>\n",
       "      <th>price</th>\n",
       "      <th>early_access</th>\n",
       "      <th>id</th>\n",
       "      <th>developer</th>\n",
       "      <th>sentiment</th>\n",
       "      <th>metascore</th>\n",
       "    </tr>\n",
       "  </thead>\n",
       "  <tbody>\n",
       "    <tr>\n",
       "      <th>5211</th>\n",
       "      <td>Thekla, Inc.</td>\n",
       "      <td>['Adventure', 'Indie']</td>\n",
       "      <td>The Witness</td>\n",
       "      <td>The Witness</td>\n",
       "      <td>http://store.steampowered.com/app/210970/The_W...</td>\n",
       "      <td>2016-01-26</td>\n",
       "      <td>['Puzzle', 'Exploration', 'First-Person', 'Sin...</td>\n",
       "      <td>NaN</td>\n",
       "      <td>http://steamcommunity.com/app/210970/reviews/?...</td>\n",
       "      <td>['Single-player', 'Steam Achievements', 'Capti...</td>\n",
       "      <td>39.99</td>\n",
       "      <td>False</td>\n",
       "      <td>210970.0</td>\n",
       "      <td>Thekla, Inc.</td>\n",
       "      <td>Very Positive</td>\n",
       "      <td>87.0</td>\n",
       "    </tr>\n",
       "  </tbody>\n",
       "</table>\n",
       "</div>"
      ],
      "text/plain": [
       "         publisher                  genres     app_name        title  \\\n",
       "5211  Thekla, Inc.  ['Adventure', 'Indie']  The Witness  The Witness   \n",
       "\n",
       "                                                    url release_date  \\\n",
       "5211  http://store.steampowered.com/app/210970/The_W...   2016-01-26   \n",
       "\n",
       "                                                   tags  discount_price  \\\n",
       "5211  ['Puzzle', 'Exploration', 'First-Person', 'Sin...             NaN   \n",
       "\n",
       "                                            reviews_url  \\\n",
       "5211  http://steamcommunity.com/app/210970/reviews/?...   \n",
       "\n",
       "                                                  specs  price  early_access  \\\n",
       "5211  ['Single-player', 'Steam Achievements', 'Capti...  39.99         False   \n",
       "\n",
       "            id     developer      sentiment  metascore  \n",
       "5211  210970.0  Thekla, Inc.  Very Positive       87.0  "
      ]
     },
     "execution_count": 62,
     "metadata": {},
     "output_type": "execute_result"
    }
   ],
   "source": [
    "game_recom_data[game_recom_data['title'] == 'The Witness']"
   ]
  },
  {
   "cell_type": "code",
   "execution_count": 63,
   "metadata": {},
   "outputs": [
    {
     "name": "stdout",
     "output_type": "stream",
     "text": [
      "Item of interest: The Witness\n",
      "Similar items:\n",
      "1- Bear Simulator\n",
      "2- Everybody's Gone to the Rapture\n",
      "3- OPUS: The Day We Found Earth\n",
      "4- ABZU\n",
      "5- Dangerous Golf\n"
     ]
    }
   ],
   "source": [
    "game_210970 = return_recomm( embedd_mat= game_mat_data, \n",
    "                              game_id = 210970, \n",
    "                              dic_game= dic_game, \n",
    "                              n_items = 5, \n",
    "                              show = True)"
   ]
  },
  {
   "cell_type": "code",
   "execution_count": 60,
   "metadata": {},
   "outputs": [
    {
     "data": {
      "text/html": [
       "<div>\n",
       "<style scoped>\n",
       "    .dataframe tbody tr th:only-of-type {\n",
       "        vertical-align: middle;\n",
       "    }\n",
       "\n",
       "    .dataframe tbody tr th {\n",
       "        vertical-align: top;\n",
       "    }\n",
       "\n",
       "    .dataframe thead th {\n",
       "        text-align: right;\n",
       "    }\n",
       "</style>\n",
       "<table border=\"1\" class=\"dataframe\">\n",
       "  <thead>\n",
       "    <tr style=\"text-align: right;\">\n",
       "      <th></th>\n",
       "      <th>publisher</th>\n",
       "      <th>genres</th>\n",
       "      <th>app_name</th>\n",
       "      <th>title</th>\n",
       "      <th>url</th>\n",
       "      <th>release_date</th>\n",
       "      <th>tags</th>\n",
       "      <th>discount_price</th>\n",
       "      <th>reviews_url</th>\n",
       "      <th>specs</th>\n",
       "      <th>price</th>\n",
       "      <th>early_access</th>\n",
       "      <th>id</th>\n",
       "      <th>developer</th>\n",
       "      <th>sentiment</th>\n",
       "      <th>metascore</th>\n",
       "    </tr>\n",
       "  </thead>\n",
       "  <tbody>\n",
       "    <tr>\n",
       "      <th>22123</th>\n",
       "      <td>505 Games</td>\n",
       "      <td>['Action', 'Adventure', 'Casual', 'Indie', 'Si...</td>\n",
       "      <td>ABZU</td>\n",
       "      <td>ABZU</td>\n",
       "      <td>http://store.steampowered.com/app/384190/ABZU/</td>\n",
       "      <td>2016-08-02</td>\n",
       "      <td>['Relaxing', 'Atmospheric', 'Underwater', 'Gre...</td>\n",
       "      <td>NaN</td>\n",
       "      <td>http://steamcommunity.com/app/384190/reviews/?...</td>\n",
       "      <td>['Single-player', 'Steam Achievements', 'Full ...</td>\n",
       "      <td>19.99</td>\n",
       "      <td>False</td>\n",
       "      <td>384190.0</td>\n",
       "      <td>Giant Squid</td>\n",
       "      <td>Very Positive</td>\n",
       "      <td>83.0</td>\n",
       "    </tr>\n",
       "  </tbody>\n",
       "</table>\n",
       "</div>"
      ],
      "text/plain": [
       "       publisher                                             genres app_name  \\\n",
       "22123  505 Games  ['Action', 'Adventure', 'Casual', 'Indie', 'Si...     ABZU   \n",
       "\n",
       "      title                                             url release_date  \\\n",
       "22123  ABZU  http://store.steampowered.com/app/384190/ABZU/   2016-08-02   \n",
       "\n",
       "                                                    tags  discount_price  \\\n",
       "22123  ['Relaxing', 'Atmospheric', 'Underwater', 'Gre...             NaN   \n",
       "\n",
       "                                             reviews_url  \\\n",
       "22123  http://steamcommunity.com/app/384190/reviews/?...   \n",
       "\n",
       "                                                   specs  price  early_access  \\\n",
       "22123  ['Single-player', 'Steam Achievements', 'Full ...  19.99         False   \n",
       "\n",
       "             id    developer      sentiment  metascore  \n",
       "22123  384190.0  Giant Squid  Very Positive       83.0  "
      ]
     },
     "execution_count": 60,
     "metadata": {},
     "output_type": "execute_result"
    }
   ],
   "source": [
    "game_recom_data[game_recom_data['title'] == 'ABZU']"
   ]
  },
  {
   "cell_type": "code",
   "execution_count": 64,
   "metadata": {},
   "outputs": [
    {
     "name": "stdout",
     "output_type": "stream",
     "text": [
      "Item of interest: ABZU\n",
      "Similar items:\n",
      "1- Quadrilateral Cowboy\n",
      "2- The Witness\n",
      "3- Valley\n",
      "4- Replica\n",
      "5- 1979 Revolution: Black Friday\n",
      "6- Everybody's Gone to the Rapture\n"
     ]
    }
   ],
   "source": [
    "game_384190 = return_recomm( embedd_mat= game_mat_data, \n",
    "                              game_id = 384190, \n",
    "                              dic_game= dic_game, \n",
    "                              n_items = 6, \n",
    "                              show = True)"
   ]
  }
 ],
 "metadata": {
  "interpreter": {
   "hash": "29588637f152574552d8faefd8b8a603d6c4aa3e45c8da827eb2dd5eb427d5df"
  },
  "kernelspec": {
   "display_name": "Python 3.8.5 64-bit ('base': conda)",
   "name": "python3"
  },
  "language_info": {
   "codemirror_mode": {
    "name": "ipython",
    "version": 3
   },
   "file_extension": ".py",
   "mimetype": "text/x-python",
   "name": "python",
   "nbconvert_exporter": "python",
   "pygments_lexer": "ipython3",
   "version": "3.8.8"
  },
  "toc": {
   "base_numbering": 1,
   "nav_menu": {},
   "number_sections": true,
   "sideBar": true,
   "skip_h1_title": true,
   "title_cell": "Table of Contents",
   "title_sidebar": "Contents",
   "toc_cell": false,
   "toc_position": {},
   "toc_section_display": true,
   "toc_window_display": true
  }
 },
 "nbformat": 4,
 "nbformat_minor": 2
}
